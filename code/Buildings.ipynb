{
 "cells": [
  {
   "cell_type": "code",
   "execution_count": 94,
   "id": "6b39b2d3-c8c7-461e-b9d8-db6155caff05",
   "metadata": {},
   "outputs": [],
   "source": [
    "import pandas as pd\n",
    "import os"
   ]
  },
  {
   "cell_type": "code",
   "execution_count": 2,
   "id": "47a39bc2-1366-4959-a0e7-b136273c8ec4",
   "metadata": {},
   "outputs": [],
   "source": [
    "## Greater Manchester LSOA and MSOA\n",
    "# Set the path of the file\n",
    "lu2021 = '/Users/alexander/Documents/MSc Data Science/S2/Applying Data Science/dp/lookup/processed/gm_lsoas2021.csv'\n",
    "lu2011 = '/Users/alexander/Documents/MSc Data Science/S2/Applying Data Science/dp/lookup/processed/gm_lsoas2011.csv'\n",
    "lu2001 = '/Users/alexander/Documents/MSc Data Science/S2/Applying Data Science/dp/lookup/processed/gm_lsoas2001.csv'\n",
    "postcode = '/Users/alexander/Documents/MSc Data Science/S2/Applying Data Science/dp/lookup/processed/postcode_gm2021.csv'\n",
    "\n",
    "# Load the CSV file into a DataFrame\n",
    "gm2021 = pd.read_csv(lu2021)\n",
    "gm2011 = pd.read_csv(lu2011)\n",
    "gm2001 = pd.read_csv(lu2001)\n",
    "postcodegm2021 = pd.read_csv(postcode)"
   ]
  },
  {
   "cell_type": "markdown",
   "id": "9dcdab4d-3ed8-4547-a2e6-3ff0d5ff7cdb",
   "metadata": {},
   "source": [
    "## Accommodation Type"
   ]
  },
  {
   "cell_type": "code",
   "execution_count": 3,
   "id": "df3cb9da-3d3f-4eab-8653-153f27cda2e7",
   "metadata": {},
   "outputs": [],
   "source": [
    "# Set the path of the file\n",
    "file_path2021 = '/Users/alexander/Documents/MSc Data Science/S2/Applying Data Science/dp/raw_data/accomm_type_census_2021.csv'\n",
    "file_path2011 = '/Users/alexander/Documents/MSc Data Science/S2/Applying Data Science/dp/raw_data/accomm_type_census_2011.csv'\n",
    "file_path2001 = '/Users/alexander/Documents/MSc Data Science/S2/Applying Data Science/dp/raw_data/accomm_type_census_2001.csv'\n",
    "\n",
    "# Load the CSV file into a DataFrame\n",
    "df2021 = pd.read_csv(file_path2021)\n",
    "df2011 = pd.read_csv(file_path2011)\n",
    "df2001 = pd.read_csv(file_path2001)"
   ]
  },
  {
   "cell_type": "code",
   "execution_count": 4,
   "id": "b602975f-e24f-444f-8d56-41279444fc93",
   "metadata": {},
   "outputs": [],
   "source": [
    "# ---- Cleaning functions ----\n",
    "\n",
    "def clean_2021(df):\n",
    "    rename_map = {\n",
    "        'Detached': 'Detached',\n",
    "        '%.1': 'Detached (%)',\n",
    "        'Semi-detached': 'Semi-detached',\n",
    "        '%.2': 'Semi-detached (%)',\n",
    "        'Terraced': 'Terraced',\n",
    "        '%.3': 'Terraced (%)',\n",
    "        'In a purpose-built block of flats or tenement': 'Purpose-built flats',\n",
    "        '%.4': 'Purpose-built flats (%)',\n",
    "        'Part of a converted or shared house, including bedsits': 'Converted/shared house',\n",
    "        '%.5': 'Converted/shared house (%)',\n",
    "        'In a commercial building, for example, in an office building, hotel or over a shop': 'Commercial building',\n",
    "        '%.7': 'Commercial building (%)',\n",
    "        'A caravan or other mobile or temporary structure': 'Caravan/mobile',\n",
    "        '%.8': 'Caravan/mobile (%)'\n",
    "    }\n",
    "\n",
    "    df = df.rename(columns=rename_map)\n",
    "    df[['LSOA Code', 'LSOA Name']] = df['2021 super output area - lower layer'].str.split(' : ', expand=True)\n",
    "    df['YEAR'] = 2021\n",
    "\n",
    "    cols = ['LSOA Code', 'LSOA Name', 'YEAR'] + list(rename_map.values())\n",
    "    return df[cols]\n",
    "\n",
    "def clean_2011(df):\n",
    "    rename_map = {\n",
    "        'Whole house or bungalow: Detached': 'Detached',\n",
    "        '%.3': 'Detached (%)',\n",
    "        'Whole house or bungalow: Semi-detached': 'Semi-detached',\n",
    "        '%.4': 'Semi-detached (%)',\n",
    "        'Whole house or bungalow: Terraced (including end-terrace)': 'Terraced',\n",
    "        '%.5': 'Terraced (%)',\n",
    "        'Flat, maisonette or apartment: Purpose-built block of flats or tenement': 'Purpose-built flats',\n",
    "        '%.6': 'Purpose-built flats (%)',\n",
    "        'Flat, maisonette or apartment: Part of a converted or shared house (including bed-sits)': 'Converted/shared house',\n",
    "        '%.7': 'Converted/shared house (%)',\n",
    "        'Flat, maisonette or apartment: In a commercial building': 'Commercial building',\n",
    "        '%.8': 'Commercial building (%)',\n",
    "        'Caravan or other mobile or temporary structure': 'Caravan/mobile',\n",
    "        '%.9': 'Caravan/mobile (%)'\n",
    "    }\n",
    "\n",
    "    df = df.rename(columns=rename_map)\n",
    "    df[['LSOA Code', 'LSOA Name']] = df['2011 super output area - lower layer'].str.split(' : ', expand=True)\n",
    "    df['YEAR'] = 2011\n",
    "\n",
    "    cols = ['LSOA Code', 'LSOA Name', 'YEAR'] + list(rename_map.values())\n",
    "    return df[cols]\n",
    "\n",
    "def clean_2001(df):\n",
    "    rename_map = {\n",
    "        'Whole house or bungalow - detatched': 'Detached',\n",
    "        '%.3': 'Detached (%)',\n",
    "        'Whole house or bungalow - semi-detatched': 'Semi-detached',\n",
    "        '%.4': 'Semi-detached (%)',\n",
    "        'Whole house or bungalow - terraced': 'Terraced',\n",
    "        '%.5': 'Terraced (%)',\n",
    "        'Flat, maisonette or apartment - in a purpose built block of flats or tenement': 'Purpose-built flats',\n",
    "        '%.6': 'Purpose-built flats (%)',\n",
    "        'Flat, maisonette or apartment - part of a converted or shared house (includes bed-sit)': 'Converted/shared house',\n",
    "        '%.7': 'Converted/shared house (%)',\n",
    "        'Flat, maisonette or apartment - in a commercial building': 'Commercial building',\n",
    "        '%.8': 'Commercial building (%)',\n",
    "        'Caravan or other mobile or temporary structure': 'Caravan/mobile',\n",
    "        '%.9': 'Caravan/mobile (%)'\n",
    "    }\n",
    "\n",
    "    df = df.rename(columns=rename_map)\n",
    "    df[['LSOA Code', 'LSOA Name']] = df['2001 super output areas - lower layer'].str.split(' : ', expand=True)\n",
    "    df['YEAR'] = 2001\n",
    "\n",
    "    cols = ['LSOA Code', 'LSOA Name', 'YEAR'] + list(rename_map.values())\n",
    "    return df[cols]"
   ]
  },
  {
   "cell_type": "code",
   "execution_count": 5,
   "id": "04e137b1-4110-434c-875c-52dd0fd39b9e",
   "metadata": {},
   "outputs": [],
   "source": [
    "# ---- Apply cleaning ----\n",
    "df_cleaned_2021 = clean_2021(df2021)\n",
    "df_cleaned_2011 = clean_2011(df2011)\n",
    "df_cleaned_2001 = clean_2001(df2001)"
   ]
  },
  {
   "cell_type": "code",
   "execution_count": 6,
   "id": "4acaebe6-673f-4e53-a338-5df659e197f8",
   "metadata": {},
   "outputs": [],
   "source": [
    "## 2021\n",
    "# Sort the DataFrame by a specific column in ascending order\n",
    "df_cleaned_2021 = df_cleaned_2021.sort_values(by='LSOA Code', ascending=True)\n",
    "# If you want to reset the index after sorting\n",
    "df_cleaned_2021 = df_cleaned_2021.reset_index(drop=True)\n",
    "\n",
    "## 2011\n",
    "# Sort the DataFrame by a specific column in ascending order\n",
    "df_cleaned_2011 = df_cleaned_2011.sort_values(by='LSOA Code', ascending=True)\n",
    "# If you want to reset the index after sorting\n",
    "df_cleaned_2011 = df_cleaned_2011.reset_index(drop=True)\n",
    "\n",
    "## 2001\n",
    "# Sort the DataFrame by a specific column in ascending order\n",
    "df_cleaned_2001 = df_cleaned_2001.sort_values(by='LSOA Code', ascending=True)\n",
    "# If you want to reset the index after sorting\n",
    "df_cleaned_2001 = df_cleaned_2001.reset_index(drop=True)"
   ]
  },
  {
   "cell_type": "code",
   "execution_count": 7,
   "id": "de229907-8b7a-40c6-b921-57c348503ccc",
   "metadata": {},
   "outputs": [],
   "source": [
    "## Filter only areas across Greater Manchester\n",
    "# Filter df_cleaned_2021 to keep only rows where LSOA Code is in gm2021\n",
    "df_cleaned_2021_gm = df_cleaned_2021[df_cleaned_2021['LSOA Code'].isin(gm2021['lsoa21cd'])].copy()\n",
    "df_cleaned_2021_gm = df_cleaned_2021_gm.reset_index(drop=True)\n",
    "\n",
    "# Filter df_cleaned_2011 to keep only rows where LSOA Code is in gm2011\n",
    "df_cleaned_2011_gm = df_cleaned_2011[df_cleaned_2011['LSOA Code'].isin(gm2011['lsoa11cd'])].copy()\n",
    "df_cleaned_2011_gm = df_cleaned_2011_gm.reset_index(drop=True)\n",
    "\n",
    "# Filter df_cleaned_2001 to keep only rows where LSOA Code is in gm2001\n",
    "df_cleaned_2001_gm = df_cleaned_2001[df_cleaned_2001['LSOA Code'].isin(gm2001['lsoa01cd'])].copy()\n",
    "df_cleaned_2001_gm = df_cleaned_2001_gm.reset_index(drop=True)"
   ]
  },
  {
   "cell_type": "code",
   "execution_count": 8,
   "id": "771e9c76-22ba-495d-9565-3a150eb9667a",
   "metadata": {},
   "outputs": [],
   "source": [
    "# Export to CSV files without index\n",
    "# df_cleaned_2001_gm.to_csv(\"/Users/alexander/Documents/MSc Data Science/S2/Applying Data Science/dp/processed/gm_accomm2001.csv\", index=False)\n",
    "# df_cleaned_2011_gm.to_csv(\"/Users/alexander/Documents/MSc Data Science/S2/Applying Data Science/dp/processed/gm_accomm2011.csv\", index=False)\n",
    "# df_cleaned_2021_gm.to_csv(\"/Users/alexander/Documents/MSc Data Science/S2/Applying Data Science/dp/processed/gm_accomm2021.csv\", index=False)"
   ]
  },
  {
   "cell_type": "markdown",
   "id": "a1971c5a-022b-426e-af8a-e714bced568f",
   "metadata": {},
   "source": [
    "## Dwelling Ages"
   ]
  },
  {
   "cell_type": "code",
   "execution_count": 9,
   "id": "5efc6be4-44ab-4b80-b55a-29a09cb8dceb",
   "metadata": {},
   "outputs": [],
   "source": [
    "# Set the path of the file\n",
    "file_path2015 = '/Users/alexander/Documents/MSc Data Science/S2/Applying Data Science/dp/raw_data/dwellingages2015.csv'\n",
    "file_path2021 = '/Users/alexander/Documents/MSc Data Science/S2/Applying Data Science/dp/raw_data/dwellingages2021.csv'\n",
    "\n",
    "# Load the CSV file into a DataFrame\n",
    "df2015 = pd.read_csv(file_path2015)\n",
    "df2021 = pd.read_csv(file_path2021)"
   ]
  },
  {
   "cell_type": "code",
   "execution_count": 10,
   "id": "a1993c1e-7e29-426d-bda6-42e6c6107927",
   "metadata": {},
   "outputs": [],
   "source": [
    "# Keep only year interval build period columns\n",
    "build_period_cols = [\n",
    "    \"BP_PRE_1900\", \"BP_1900_1918\", \"BP_1919_1929\", \"BP_1930_1939\", \n",
    "    \"BP_1945_1954\", \"BP_1955_1964\", \"BP_1965_1972\", \"BP_1973_1982\", \n",
    "    \"BP_1983_1992\", \"BP_1993_1999\", \"BP_2000_2009\", \"BP_2010_2015\",\n",
    "    \"BP_UNKNOWN\"\n",
    "]\n",
    "\n",
    "# Add 'year' column with value 2015\n",
    "df2015[\"YEAR\"] = 2015\n",
    "\n",
    "# Select and reorder columns\n",
    "cols = [\"AREA_CODE\", \"AREA_NAME\", \"YEAR\"] + build_period_cols\n",
    "df2015 = df2015[cols]"
   ]
  },
  {
   "cell_type": "code",
   "execution_count": 11,
   "id": "f79e4180-37ff-4116-86c7-2aa4421a949c",
   "metadata": {},
   "outputs": [],
   "source": [
    "# Recalculate row totals\n",
    "row_totals = df2015[build_period_cols].sum(axis=1)\n",
    "\n",
    "# Create proportion columns with _prop suffix, preserving original values\n",
    "for col in build_period_cols:\n",
    "    df2015[col + \"_prop\"] = (df2015[col] / row_totals)*100"
   ]
  },
  {
   "cell_type": "code",
   "execution_count": 12,
   "id": "4c00852a-bf41-4320-ad09-b3cc3df05276",
   "metadata": {},
   "outputs": [],
   "source": [
    "# Filter only areas across Greater Manchester\n",
    "df2015_gm = df2015[df2015['AREA_CODE'].isin(gm2021['lsoa21cd'])].copy()\n",
    "df2015_gm = df2015_gm.reset_index(drop=True)\n",
    "\n",
    "# Last, rename\n",
    "df2015_gm = df2015_gm.rename(columns={\n",
    "    \"AREA_CODE\": \"lsoa21cd\",\n",
    "    \"AREA_NAME\": \"lsoa21nm\",\n",
    "    \"year\": \"year\"\n",
    "})"
   ]
  },
  {
   "cell_type": "code",
   "execution_count": 13,
   "id": "2561109a-5ec1-4639-aaf5-505c1ce0f30a",
   "metadata": {},
   "outputs": [],
   "source": [
    "## 2021 has a different structure and less information\n",
    "# Keep only LSOA code, year, and the two proportions\n",
    "df2021 = df2021[[\"lsoacode\", \"dwe_p45pc\", \"dwe_p16pc\"]].copy()\n",
    "\n",
    "# Add the year column\n",
    "df2021[\"year\"] = 2021\n",
    "\n",
    "# Reorder columns: lsoacode, year, then the two proportions\n",
    "df2021 = df2021[[\"lsoacode\", \"year\", \"dwe_p45pc\", \"dwe_p16pc\"]]"
   ]
  },
  {
   "cell_type": "code",
   "execution_count": 14,
   "id": "cadb3b0a-5eca-4504-b9c9-daa24a79ff3a",
   "metadata": {},
   "outputs": [],
   "source": [
    "# Filter GM LSOAs\n",
    "df2021_gm = df2021[df2021['lsoacode'].isin(gm2021['lsoa21cd'])].copy()\n",
    "\n",
    "# Merge to bring in the LSOA name from gm2021\n",
    "df2021_gm = df2021_gm.merge(gm2021[[\"lsoa21cd\", \"lsoa21nm\"]], \n",
    "                            left_on=\"lsoacode\", right_on=\"lsoa21cd\", how=\"left\")\n",
    "\n",
    "# Reset index\n",
    "df2021_gm = df2021_gm.drop(columns=\"lsoa21cd\").reset_index(drop=True)\n",
    "\n",
    "# Reorder\n",
    "df2021_gm = df2021_gm[[\"lsoacode\", \"lsoa21nm\", \"year\", \"dwe_p45pc\", \"dwe_p16pc\"]]\n",
    "\n",
    "# Percentages\n",
    "df2021_gm[\"dwe_p45pc\"] = df2021_gm[\"dwe_p45pc\"] * 100\n",
    "df2021_gm[\"dwe_p16pc\"] = df2021_gm[\"dwe_p16pc\"] * 100"
   ]
  },
  {
   "cell_type": "code",
   "execution_count": 15,
   "id": "4b2cf24c-579f-4751-a950-236377f0530a",
   "metadata": {},
   "outputs": [],
   "source": [
    "# Export data\n",
    "# df2015_gm.to_csv(\"/Users/alexander/Documents/MSc Data Science/S2/Applying Data Science/dp/processed/dwelling_ages_gm2015.csv\", index=False)\n",
    "# df2021_gm.to_csv(\"/Users/alexander/Documents/MSc Data Science/S2/Applying Data Science/dp/processed/dwelling_ages_gm2021.csv\", index=False)"
   ]
  },
  {
   "cell_type": "markdown",
   "id": "7777ee76-a90e-4211-bc57-8621a600f7fd",
   "metadata": {},
   "source": [
    "## Homes at Risk of Flooding"
   ]
  },
  {
   "cell_type": "code",
   "execution_count": 16,
   "id": "ad7c0b80-6a18-4e46-9bee-c51081047210",
   "metadata": {},
   "outputs": [],
   "source": [
    "# Set the path of the file\n",
    "file_path2020 = '/Users/alexander/Documents/MSc Data Science/S2/Applying Data Science/dp/raw_data/Flood-risk-tool-Properties-at-Risk-by-Lower-Tier-Local-Authority.csv'\n",
    "\n",
    "# Load the CSV file into a DataFrame\n",
    "df2020 = pd.read_csv(file_path2020)"
   ]
  },
  {
   "cell_type": "code",
   "execution_count": 17,
   "id": "4bcbba0b-3183-4958-98d6-26dfea595b01",
   "metadata": {},
   "outputs": [],
   "source": [
    "# Melt the DataFrame to long format\n",
    "df_long = df2020.melt(\n",
    "    id_vars=[\"Name\", \"Code\"],\n",
    "    var_name=\"column\",\n",
    "    value_name=\"value\"\n",
    ")\n",
    "\n",
    "# Extract year, type (Number/Percentage), and threshold\n",
    "df_long[[\"year\", \"type\", \"threshold\"]] = df_long[\"column\"].str.extract(\n",
    "    r\"(\\d{4}): (Number|Percentage) of properties at >(0\\.01|0\\.1|1)% risk\"\n",
    ")"
   ]
  },
  {
   "cell_type": "code",
   "execution_count": 18,
   "id": "1e02e2dc-bcaf-453f-832b-91e0005dd7aa",
   "metadata": {},
   "outputs": [],
   "source": [
    "# Clean value column\n",
    "df_long[\"value\"] = df_long[\"value\"].astype(str).str.replace(\"%\", \"\", regex=False).astype(float)\n",
    "\n",
    "# Map thresholds to safe column suffixes\n",
    "threshold_map = {\"1\": \"1\", \"0.1\": \"0_1\", \"0.01\": \"0_01\"}\n",
    "df_long[\"threshold_clean\"] = df_long[\"threshold\"].map(threshold_map)\n",
    "\n",
    "# Create new column names\n",
    "df_long[\"col_name\"] = df_long[\"type\"].map({\"Number\": \"n_risk_\", \"Percentage\": \"pct_risk_\"}) + df_long[\"threshold_clean\"]"
   ]
  },
  {
   "cell_type": "code",
   "execution_count": 19,
   "id": "2c6ba3a4-c873-43b0-ba29-53ec2235b58d",
   "metadata": {},
   "outputs": [],
   "source": [
    "# Pivot to wide format with desired structure\n",
    "df_wide = df_long.pivot_table(\n",
    "    index=[\"Code\", \"Name\", \"year\"],\n",
    "    columns=\"col_name\",\n",
    "    values=\"value\"\n",
    ").reset_index()\n",
    "\n",
    "# Fix column order\n",
    "ordered_cols = [\"Code\", \"Name\", \"year\",\n",
    "                \"n_risk_1\", \"pct_risk_1\",\n",
    "                \"n_risk_0_1\", \"pct_risk_0_1\",\n",
    "                \"n_risk_0_01\", \"pct_risk_0_01\"]\n",
    "df_wide = df_wide[ordered_cols]\n",
    "\n",
    "# Convert year to int\n",
    "df_wide[\"year\"] = df_wide[\"year\"].astype(int)"
   ]
  },
  {
   "cell_type": "code",
   "execution_count": 20,
   "id": "7f5c8fe1-4787-43fe-9949-38e85954ec0e",
   "metadata": {},
   "outputs": [],
   "source": [
    "# Filter GM\n",
    "df_wide_gm = df_wide[df_wide['Code'].isin(gm2021['ladcd'])].copy()"
   ]
  },
  {
   "cell_type": "code",
   "execution_count": 21,
   "id": "744abb89-ea8a-49ac-8b84-3eb80f4aa973",
   "metadata": {},
   "outputs": [],
   "source": [
    "# Split by year\n",
    "df_2016 = df_wide_gm[df_wide_gm[\"year\"] == 2016].reset_index(drop=True)\n",
    "df_2018 = df_wide_gm[df_wide_gm[\"year\"] == 2018].reset_index(drop=True)\n",
    "df_2020 = df_wide_gm[df_wide_gm[\"year\"] == 2020].reset_index(drop=True)"
   ]
  },
  {
   "cell_type": "code",
   "execution_count": 22,
   "id": "950d70b2-bbf6-4bda-bde3-c9540fc0cfe8",
   "metadata": {},
   "outputs": [],
   "source": [
    "# Export datasets\n",
    "# df_2016.to_csv(\"/Users/alexander/Documents/MSc Data Science/S2/Applying Data Science/dp/processed/flooding2016.csv\", index=False)\n",
    "# df_2018.to_csv(\"/Users/alexander/Documents/MSc Data Science/S2/Applying Data Science/dp/processed/flooding2018.csv\", index=False)\n",
    "# df_2020.to_csv(\"/Users/alexander/Documents/MSc Data Science/S2/Applying Data Science/dp/processed/flooding2020.csv\", index=False)"
   ]
  },
  {
   "cell_type": "markdown",
   "id": "3b88982b-a6c4-47a6-b96d-2dc27cb50f16",
   "metadata": {},
   "source": [
    "## Hospitals"
   ]
  },
  {
   "cell_type": "code",
   "execution_count": 23,
   "id": "182e45c6-ec11-4335-8b78-7126dd1db948",
   "metadata": {},
   "outputs": [],
   "source": [
    "file_path = \"/Users/alexander/Documents/MSc Data Science/S2/Applying Data Science/dp/raw_data/hospital-records.xls\"\n",
    "df_hosp = pd.read_excel(file_path, sheet_name=1)"
   ]
  },
  {
   "cell_type": "code",
   "execution_count": 24,
   "id": "4f3ea903-afa2-4dc4-9a17-635e52447f09",
   "metadata": {},
   "outputs": [],
   "source": [
    "# Keep only the specified columns\n",
    "df_hosp = df_hosp[[\"Present Name of Hospital\", \"Closure Date\", \"Post Code\"]].copy()\n",
    "\n",
    "# Filter rows: keep if Closure Date is missing AND Post Code is not missing\n",
    "df_hosp_running = df_hosp[df_hosp[\"Closure Date\"].isna() & df_hosp[\"Post Code\"].notna()].copy()\n",
    "\n",
    "# Drop closure date\n",
    "df_hosp_running = df_hosp_running.drop(columns=[\"Closure Date\"])"
   ]
  },
  {
   "cell_type": "code",
   "execution_count": 25,
   "id": "e0c4ec4d-ad9f-4dac-b0f5-393d279b33fb",
   "metadata": {},
   "outputs": [],
   "source": [
    "# Step 1: Merge hospitals with GM postcode lookup using a right join\n",
    "merged = df_hosp_running.merge(\n",
    "    postcodegm2021[[\"pcds\", \"lsoa21cd\", \"lsoa21nm\"]],\n",
    "    left_on=\"Post Code\",\n",
    "    right_on=\"pcds\",\n",
    "    how=\"right\"  # keep all GM postcodes\n",
    ")"
   ]
  },
  {
   "cell_type": "code",
   "execution_count": 26,
   "id": "93c81356-ba4e-4b64-9cc0-f48386024142",
   "metadata": {},
   "outputs": [],
   "source": [
    "# Step 2: Group by LSOA and count number of hospitals per LSOA\n",
    "hospitals_per_lsoa = merged.groupby([\"lsoa21cd\", \"lsoa21nm\"])[\"Present Name of Hospital\"].count().reset_index()\n",
    "\n",
    "# Step 3: Rename the count column\n",
    "hospitals_per_lsoa = hospitals_per_lsoa.rename(columns={\"Present Name of Hospital\": \"n_hospitals\"})"
   ]
  },
  {
   "cell_type": "code",
   "execution_count": 27,
   "id": "7918ae49-fb90-4197-9132-58325d7dc3df",
   "metadata": {},
   "outputs": [],
   "source": [
    "# Export:\n",
    "# hospitals_per_lsoa.to_csv(\"/Users/alexander/Documents/MSc Data Science/S2/Applying Data Science/dp/processed/hospitals.csv\", index=False)"
   ]
  },
  {
   "cell_type": "markdown",
   "id": "936dfb45-a6dc-406d-81fe-3520828654ce",
   "metadata": {},
   "source": [
    "## Schools"
   ]
  },
  {
   "cell_type": "code",
   "execution_count": 28,
   "id": "49d09076-6e16-485b-829a-2e4d72106fc2",
   "metadata": {},
   "outputs": [
    {
     "name": "stderr",
     "output_type": "stream",
     "text": [
      "/var/folders/9q/x_qkm_295r77cyh7zn22pj3h0000gn/T/ipykernel_1493/3004818558.py:5: DtypeWarning: Columns (38,48,50,51,69,70,83,84,85,86,87,88,89,90,91,92,93,117,124,129,134) have mixed types. Specify dtype option on import or set low_memory=False.\n",
      "  schools = pd.read_csv(file_path_schools, encoding=\"latin1\")\n"
     ]
    }
   ],
   "source": [
    "# Path\n",
    "file_path_schools = '/Users/alexander/Documents/MSc Data Science/S2/Applying Data Science/dp/raw_data/edubasealldata20250410.csv'\n",
    "\n",
    "# Load schools\n",
    "schools = pd.read_csv(file_path_schools, encoding=\"latin1\")"
   ]
  },
  {
   "cell_type": "code",
   "execution_count": 29,
   "id": "2351d706-89ba-421d-ab6c-adc12b30783d",
   "metadata": {},
   "outputs": [],
   "source": [
    "schools = schools[[\n",
    "    \"LSOA (code)\",\n",
    "    \"LSOA (name)\",\n",
    "    \"EstablishmentName\",\n",
    "    \"EstablishmentNumber\",\n",
    "    \"EstablishmentTypeGroup (name)\",\n",
    "    \"EstablishmentStatus (name)\",\n",
    "    \"PhaseOfEducation (name)\",\n",
    "    \"NurseryProvision (name)\",\n",
    "    \"Gender (name)\",\n",
    "    \"SchoolCapacity\",\n",
    "    \"NumberOfPupils\",\n",
    "    \"NumberOfBoys\",\n",
    "    \"NumberOfGirls\"\n",
    "]].copy()\n",
    "\n",
    "schools = schools.rename(columns={\n",
    "    \"LSOA (code)\": \"lsoa_code\",\n",
    "    \"LSOA (name)\": \"lsoa_name\",\n",
    "    \"EstablishmentName\": \"establishment_name\",\n",
    "    \"EstablishmentNumber\": \"establishment_number\",\n",
    "    \"EstablishmentTypeGroup (name)\": \"establishment_type_group\",\n",
    "    \"EstablishmentStatus (name)\": \"establishment_status\",\n",
    "    \"PhaseOfEducation (name)\": \"phase_of_education\",\n",
    "    \"NurseryProvision (name)\": \"nursery_provision\",\n",
    "    \"Gender (name)\": \"gender\",\n",
    "    \"SchoolCapacity\": \"school_capacity\",\n",
    "    \"NumberOfPupils\": \"number_of_pupils\",\n",
    "    \"NumberOfBoys\": \"number_of_boys\",\n",
    "    \"NumberOfGirls\": \"number_of_girls\"\n",
    "})\n"
   ]
  },
  {
   "cell_type": "code",
   "execution_count": 30,
   "id": "ab987a30-6215-42fe-8210-b8eead4c59b1",
   "metadata": {},
   "outputs": [],
   "source": [
    "# Filter GM\n",
    "schools_gm = schools[schools['lsoa_code'].isin(gm2021['lsoa21cd'])].copy()\n",
    "\n",
    "# Only open schools:\n",
    "schools_gm = schools_gm[schools_gm[\"establishment_status\"] == \"Open\"].copy()\n",
    "\n",
    "# Drop col:\n",
    "schools_gm = schools_gm.drop(columns=[\"establishment_status\"])"
   ]
  },
  {
   "cell_type": "code",
   "execution_count": 31,
   "id": "9a8b0b2f-f428-4711-ba1f-06b6108f7b3c",
   "metadata": {},
   "outputs": [],
   "source": [
    "# Fill missing values for grouping\n",
    "schools_gm[\"nursery_provision\"] = schools_gm[\"nursery_provision\"].fillna(\"Unknown\")\n",
    "schools_gm[\"establishment_type_group\"] = schools_gm[\"establishment_type_group\"].fillna(\"Unknown\")\n",
    "schools_gm[\"phase_of_education\"] = schools_gm[\"phase_of_education\"].fillna(\"Unknown\")\n",
    "schools_gm[\"gender\"] = schools_gm[\"gender\"].fillna(\"Unknown\")\n",
    "\n",
    "# Base grouping: LSOA code and name\n",
    "group_cols = [\"lsoa_code\", \"lsoa_name\"]\n",
    "\n",
    "# Core summary: number of schools and total enrolment info\n",
    "summary = schools_gm.groupby(group_cols).agg(\n",
    "    n_schools=(\"establishment_name\", \"count\"),\n",
    "    total_capacity=(\"school_capacity\", \"sum\"),\n",
    "    total_pupils=(\"number_of_pupils\", \"sum\"),\n",
    "    total_boys=(\"number_of_boys\", \"sum\"),\n",
    "    total_girls=(\"number_of_girls\", \"sum\")\n",
    ").reset_index()\n",
    "\n",
    "# Breakdown: type of school\n",
    "type_counts = schools_gm.groupby(group_cols + [\"establishment_type_group\"]).size().unstack(fill_value=0)\n",
    "\n",
    "# Breakdown: phase of education\n",
    "phase_counts = schools_gm.groupby(group_cols + [\"phase_of_education\"]).size().unstack(fill_value=0)\n",
    "\n",
    "# Breakdown: nursery provision\n",
    "nursery_counts = schools_gm.groupby(group_cols + [\"nursery_provision\"]).size().unstack(fill_value=0)\n",
    "\n",
    "# Breakdown: gender\n",
    "gender_counts = schools_gm.groupby(group_cols + [\"gender\"]).size().unstack(fill_value=0)\n",
    "\n",
    "# Merge everything together\n",
    "summary_full = summary \\\n",
    "    .join(type_counts, on=group_cols, rsuffix=\"_by_type\") \\\n",
    "    .join(phase_counts, on=group_cols, rsuffix=\"_by_phase\") \\\n",
    "    .join(nursery_counts, on=group_cols, rsuffix=\"_nursery\") \\\n",
    "    .join(gender_counts, on=group_cols, rsuffix=\"_gender\")"
   ]
  },
  {
   "cell_type": "code",
   "execution_count": 32,
   "id": "74ad6a16-60e3-466d-9d6d-2dd91dfe7959",
   "metadata": {},
   "outputs": [],
   "source": [
    "# Add missing LSOA areas:\n",
    "gm_lsoas = gm2021[[\"lsoa21cd\", \"lsoa21nm\"]].drop_duplicates()\n",
    "gm_lsoas = gm_lsoas.rename(columns={\"lsoa21cd\": \"lsoa_code\", \"lsoa21nm\": \"lsoa_name\"})\n",
    "\n",
    "# Merge with your existing school summary (preserving NA)\n",
    "summary_complete = gm_lsoas.merge(summary_full, on=[\"lsoa_code\", \"lsoa_name\"], how=\"left\")\n",
    "\n",
    "# Optional: if you still want numeric columns in float (not object), ensure they are float type\n",
    "numeric_cols = summary_complete.select_dtypes(include=[\"float64\", \"int64\"]).columns\n",
    "summary_complete[numeric_cols] = summary_complete[numeric_cols].astype(float)\n"
   ]
  },
  {
   "cell_type": "code",
   "execution_count": 33,
   "id": "d5b2b401-1727-4e4e-b3f5-607cf0bfe7cc",
   "metadata": {},
   "outputs": [],
   "source": [
    "# Adding percentages\n",
    "summary_complete[\"pct_capacity_used\"] = summary_complete.apply(\n",
    "    lambda row: (row[\"total_pupils\"] / row[\"total_capacity\"] * 100)\n",
    "    if row[\"total_capacity\"] > 0 else 0,\n",
    "    axis=1\n",
    ")\n",
    "\n",
    "summary_complete[\"pct_boys\"] = summary_complete.apply(\n",
    "    lambda row: (row[\"total_boys\"] / row[\"total_pupils\"] * 100)\n",
    "    if row[\"total_pupils\"] > 0 else 0,\n",
    "    axis=1\n",
    ")\n",
    "\n",
    "summary_complete[\"pct_girls\"] = summary_complete.apply(\n",
    "    lambda row: (row[\"total_girls\"] / row[\"total_pupils\"] * 100)\n",
    "    if row[\"total_pupils\"] > 0 else 0,\n",
    "    axis=1\n",
    ")"
   ]
  },
  {
   "cell_type": "code",
   "execution_count": 34,
   "id": "16af8301-65d1-49b1-a1f7-542925ea4f42",
   "metadata": {},
   "outputs": [],
   "source": [
    "# List of school type columns\n",
    "school_type_cols = [\n",
    "    \"Academies\", \"Colleges\", \"Free Schools\", \"Independent schools\",\n",
    "    \"Local authority maintained schools\", \"Online provider\",\n",
    "    \"Other types\", \"Special schools\", \"Universities\"\n",
    "]\n",
    "\n",
    "# Step 1: Calculate total number of schools per LSOA by summing the type columns\n",
    "summary_complete[\"total_schools_type\"] = summary_complete[school_type_cols].sum(axis=1)\n",
    "\n",
    "# Step 2: Calculate percentages\n",
    "for col in school_type_cols:\n",
    "    pct_col = f\"pct_{col.lower().replace(' ', '_')}\"  # e.g., pct_academies\n",
    "    summary_complete[pct_col] = summary_complete.apply(\n",
    "        lambda row: (row[col] / row[\"total_schools_type\"] * 100) if row[\"total_schools_type\"] > 0 else 0,\n",
    "        axis=1\n",
    "    )"
   ]
  },
  {
   "cell_type": "code",
   "execution_count": 35,
   "id": "61fbd467-3b16-4382-823c-967e02d7ae23",
   "metadata": {},
   "outputs": [],
   "source": [
    "# List of phase columns\n",
    "phase_cols = [\n",
    "    \"Nursery\", \"Primary\", \"Secondary\", \"Not applicable\", \"16 plus\", \"All-through\"\n",
    "]\n",
    "\n",
    "# Calculate percentages using n_schools as denominator\n",
    "for col in phase_cols:\n",
    "    pct_col = f\"pct_{col.lower().replace(' ', '_')}\"  # e.g., pct_primary\n",
    "    summary_complete[pct_col] = summary_complete.apply(\n",
    "        lambda row: (row[col] / row[\"n_schools\"] * 100) if row[\"n_schools\"] > 0 else 0,\n",
    "        axis=1\n",
    "    )"
   ]
  },
  {
   "cell_type": "code",
   "execution_count": 36,
   "id": "c5bff9d4-5399-4735-ad2f-e16c1d663c14",
   "metadata": {},
   "outputs": [],
   "source": [
    "# List of nursery provision columns\n",
    "nursery_cols = [\n",
    "    \"Has Nursery Classes\",\n",
    "    \"No Nursery Classes\",\n",
    "    \"Not applicable_nursery\"\n",
    "]\n",
    "\n",
    "# Calculate percentages using n_schools\n",
    "for col in nursery_cols:\n",
    "    pct_col = f\"pct_{col.lower().replace(' ', '_')}\"  # e.g., pct_has_nursery_classes\n",
    "    summary_complete[pct_col] = summary_complete.apply(\n",
    "        lambda row: (row[col] / row[\"n_schools\"] * 100) if row[\"n_schools\"] > 0 else 0,\n",
    "        axis=1\n",
    "    )"
   ]
  },
  {
   "cell_type": "code",
   "execution_count": 37,
   "id": "2de9bc76-1559-4f1b-9f6c-bee7c4011132",
   "metadata": {},
   "outputs": [],
   "source": [
    "# List of gender columns\n",
    "gender_cols = [\"Boys\", \"Girls\", \"Mixed\"]\n",
    "\n",
    "# Calculate percentages using n_schools\n",
    "for col in gender_cols:\n",
    "    pct_col = f\"pct_{col.lower()}\"  # e.g., pct_boys\n",
    "    summary_complete[pct_col] = summary_complete.apply(\n",
    "        lambda row: (row[col] / row[\"n_schools\"] * 100) if row[\"n_schools\"] > 0 else 0,\n",
    "        axis=1\n",
    "    )"
   ]
  },
  {
   "cell_type": "code",
   "execution_count": 38,
   "id": "00d3dbba-af7b-4dd1-bec2-931c7a828e39",
   "metadata": {},
   "outputs": [],
   "source": [
    "# Export\n",
    "# summary_complete.to_csv(\"/Users/alexander/Documents/MSc Data Science/S2/Applying Data Science/dp/processed/schools_gm.csv\", index=False)"
   ]
  },
  {
   "cell_type": "markdown",
   "id": "e3ea27f2-aa09-497d-a7c5-956ef593b697",
   "metadata": {},
   "source": [
    "## Fire Stations"
   ]
  },
  {
   "cell_type": "code",
   "execution_count": 71,
   "id": "93c97fc5-3f48-473d-ba8e-ebe17ed9143a",
   "metadata": {},
   "outputs": [
    {
     "name": "stdout",
     "output_type": "stream",
     "text": [
      "dict_keys(['Cover_sheet', 'Datasheet'])\n"
     ]
    }
   ],
   "source": [
    "file_path = \"/Users/alexander/Documents/MSc Data Science/S2/Applying Data Science/dp/raw_data/fire-stations-dataset.ods\"\n",
    "\n",
    "# List sheet names (optional)\n",
    "xls = pd.read_excel(file_path, engine=\"odf\", sheet_name=None)\n",
    "print(xls.keys())  # Shows all sheet names\n",
    "\n",
    "# Load a specific sheet (e.g., the first one)\n",
    "df_fire = pd.read_excel(file_path, engine=\"odf\", sheet_name=1)"
   ]
  },
  {
   "cell_type": "code",
   "execution_count": 72,
   "id": "4564f9d3-9a9d-40db-8c09-881a680137e4",
   "metadata": {},
   "outputs": [],
   "source": [
    "# Only relevant features:\n",
    "df_fire = df_fire[[\"STATION_NAME\", \"STATION_TYPE\", \"STATION_POSTCODE\"]].copy()"
   ]
  },
  {
   "cell_type": "code",
   "execution_count": 73,
   "id": "0dca95a2-9e61-48a0-a589-feb7c272511a",
   "metadata": {},
   "outputs": [],
   "source": [
    "# Step 1: Standardise station type casing\n",
    "df_fire[\"STATION_TYPE\"] = df_fire[\"STATION_TYPE\"].str.strip().str.title()  # e.g., \"Mixed\"\n",
    "\n",
    "# Step 2: Recount by type per postcode\n",
    "stations_by_type = df_fire.groupby([\"STATION_POSTCODE\", \"STATION_TYPE\"]).size().unstack(fill_value=0).reset_index()\n",
    "\n",
    "# Step 3: Total stations per postcode\n",
    "stations_per_postcode = df_fire.groupby(\"STATION_POSTCODE\").size().reset_index(name=\"n_stations\")\n",
    "\n",
    "# Step 4: Merge summaries\n",
    "stations_summary = stations_per_postcode.merge(stations_by_type, on=\"STATION_POSTCODE\", how=\"left\")"
   ]
  },
  {
   "cell_type": "code",
   "execution_count": 74,
   "id": "8c51a37b-b5aa-4e4b-b8a5-546761ce5160",
   "metadata": {},
   "outputs": [],
   "source": [
    "# Step 1: Merge fire station data with postcode lookup using postcode\n",
    "fire_with_geo = postcodegm2021.merge(\n",
    "    stations_summary,\n",
    "    left_on=\"pcds\",\n",
    "    right_on=\"STATION_POSTCODE\",\n",
    "    how=\"left\"  # keep all GM postcodes\n",
    ")\n",
    "\n",
    "# Step 2: Fill NaNs with 0 for fire station counts and types\n",
    "station_cols = [\"n_stations\"] + [col for col in stations_summary.columns if col not in [\"STATION_POSTCODE\", \"n_stations\"]]\n",
    "fire_with_geo[station_cols] = fire_with_geo[station_cols].fillna(0).astype(int)"
   ]
  },
  {
   "cell_type": "code",
   "execution_count": 76,
   "id": "cc51778b-de10-4023-90ee-cb5c7949b047",
   "metadata": {},
   "outputs": [],
   "source": [
    "# Only relevant features:\n",
    "fire_gm = fire_with_geo[[\"pcds\", \"lsoa21cd\", \"lsoa21nm\",\"n_stations\",\"Mixed\",\"On-Call\",\"Wholetime\"]].copy()\n",
    "\n",
    "# Step 1: Group by LSOA code and name, summing numeric columns\n",
    "fire_gm = fire_gm.groupby(\n",
    "    [\"lsoa21cd\", \"lsoa21nm\"], as_index=False\n",
    ").agg({\n",
    "    \"n_stations\": \"sum\",\n",
    "    \"Mixed\": \"sum\",\n",
    "    \"On-Call\": \"sum\",\n",
    "    \"Wholetime\": \"sum\"\n",
    "})"
   ]
  },
  {
   "cell_type": "code",
   "execution_count": 79,
   "id": "a3883b0e-8004-4f5f-aca9-f7ee212c3762",
   "metadata": {},
   "outputs": [],
   "source": [
    "fire_gm[\"pct_mixed\"] = fire_gm.apply(\n",
    "    lambda row: (row[\"Mixed\"] / row[\"n_stations\"] * 100) if row[\"n_stations\"] > 0 else 0,\n",
    "    axis=1\n",
    ")\n",
    "\n",
    "fire_gm[\"pct_on_call\"] = fire_gm.apply(\n",
    "    lambda row: (row[\"On-Call\"] / row[\"n_stations\"] * 100) if row[\"n_stations\"] > 0 else 0,\n",
    "    axis=1\n",
    ")\n",
    "\n",
    "fire_gm[\"pct_wholetime\"] = fire_gm.apply(\n",
    "    lambda row: (row[\"Wholetime\"] / row[\"n_stations\"] * 100) if row[\"n_stations\"] > 0 else 0,\n",
    "    axis=1\n",
    ")"
   ]
  },
  {
   "cell_type": "code",
   "execution_count": 82,
   "id": "8f01f109-f6c5-4121-84be-fc36dad57229",
   "metadata": {},
   "outputs": [],
   "source": [
    "# Export\n",
    "# fire_gm.to_csv(\"/Users/alexander/Documents/MSc Data Science/S2/Applying Data Science/dp/processed/fire_gm.csv\", index=False)"
   ]
  },
  {
   "cell_type": "markdown",
   "id": "511eafa9-c320-46c7-8701-0efb73e8709d",
   "metadata": {},
   "source": [
    "## Homeless Households"
   ]
  },
  {
   "cell_type": "code",
   "execution_count": 83,
   "id": "a58a549a-8c13-4c49-9298-6363f0799a10",
   "metadata": {},
   "outputs": [],
   "source": [
    "# Filepath:\n",
    "filepath = '/Users/alexander/Documents/MSc Data Science/S2/Applying Data Science/dp/raw_data/HS.csv'\n",
    "\n",
    "# Load the CSV file into a DataFrame\n",
    "hh_df = pd.read_csv(filepath)"
   ]
  },
  {
   "cell_type": "code",
   "execution_count": 89,
   "id": "c80f196b-9b4a-4a5b-9485-d8771e746224",
   "metadata": {},
   "outputs": [],
   "source": [
    "# Get unique LAD codes for Greater Manchester from gm2021\n",
    "gm_lad_codes = gm2021[\"ladcd\"].unique()\n",
    "\n",
    "# Filter hh_df using those LAD codes\n",
    "hh_gm = hh_df[hh_df[\"LTLA18CD\"].isin(gm_lad_codes)].copy()"
   ]
  },
  {
   "cell_type": "code",
   "execution_count": 93,
   "id": "795c2d79-dcad-425b-b50d-9cfdbf2273c1",
   "metadata": {},
   "outputs": [],
   "source": [
    "# Create a dictionary of DataFrames, one for each year\n",
    "hh_yearly_tables = {\n",
    "    year: df for year, df in hh_gm.groupby(\"Year\")\n",
    "}"
   ]
  },
  {
   "cell_type": "code",
   "execution_count": 95,
   "id": "6b632864-2929-4381-a40b-43c21bd9e07c",
   "metadata": {},
   "outputs": [],
   "source": [
    "# Create output folder if needed\n",
    "output_folder = \"hh_by_year\"\n",
    "os.makedirs(output_folder, exist_ok=True)\n",
    "\n",
    "# Export each year's DataFrame to a CSV file\n",
    "for year, df in hh_yearly_tables.items():\n",
    "    filename = f\"{output_folder}/hh_gm_{year}.csv\"\n",
    "    df.to_csv(filename, index=False)"
   ]
  }
 ],
 "metadata": {
  "kernelspec": {
   "display_name": "Python (myenv)",
   "language": "python",
   "name": "myenv"
  },
  "language_info": {
   "codemirror_mode": {
    "name": "ipython",
    "version": 3
   },
   "file_extension": ".py",
   "mimetype": "text/x-python",
   "name": "python",
   "nbconvert_exporter": "python",
   "pygments_lexer": "ipython3",
   "version": "3.13.0"
  }
 },
 "nbformat": 4,
 "nbformat_minor": 5
}
