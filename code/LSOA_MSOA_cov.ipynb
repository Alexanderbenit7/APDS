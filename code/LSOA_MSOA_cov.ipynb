{
 "cells": [
  {
   "cell_type": "code",
   "execution_count": 5,
   "id": "084b28b6-f7f5-4d0f-9224-86626a7fc6e3",
   "metadata": {},
   "outputs": [],
   "source": [
    "import pandas as pd"
   ]
  },
  {
   "cell_type": "markdown",
   "id": "0519529a-45a0-4dea-9b9c-3a52fb9bca68",
   "metadata": {},
   "source": [
    "## Tables with LSOA and MSOA areas"
   ]
  },
  {
   "cell_type": "code",
   "execution_count": 6,
   "id": "a84d8b5d-eebf-4d7e-bc4e-76baff8c7e7a",
   "metadata": {},
   "outputs": [
    {
     "name": "stderr",
     "output_type": "stream",
     "text": [
      "/var/folders/9q/x_qkm_295r77cyh7zn22pj3h0000gn/T/ipykernel_6801/1377427897.py:7: DtypeWarning: Columns (13) have mixed types. Specify dtype option on import or set low_memory=False.\n",
      "  lsoa2021 = pd.read_csv(file_path2021, encoding='latin1')\n",
      "/var/folders/9q/x_qkm_295r77cyh7zn22pj3h0000gn/T/ipykernel_6801/1377427897.py:8: DtypeWarning: Columns (13) have mixed types. Specify dtype option on import or set low_memory=False.\n",
      "  lsoa2011 = pd.read_csv(file_path2011, encoding='latin1')\n"
     ]
    }
   ],
   "source": [
    "# Set the path of the file\n",
    "file_path2021 = '/Users/alexander/Documents/MSc Data Science/S2/Applying Data Science/dp/lookup/raw/2021_24_UK.csv'\n",
    "file_path2011 = '/Users/alexander/Documents/MSc Data Science/S2/Applying Data Science/dp/lookup/raw/2011_21_UK.csv'\n",
    "file_path2001 = '/Users/alexander/Documents/MSc Data Science/S2/Applying Data Science/dp/lookup/raw/Lower_Layer_Super_Output_Area_(2001)_to_Lower_Layer_Super_Output_Area_(2011)_to_Local_Authority_District_(2011)_Lookup_in_England_and_Wales.csv'\n",
    "\n",
    "# Load the CSV file into a DataFrame\n",
    "lsoa2021 = pd.read_csv(file_path2021, encoding='latin1') \n",
    "lsoa2011 = pd.read_csv(file_path2011, encoding='latin1') \n",
    "lsoa2001 = pd.read_csv(file_path2001, encoding='latin1')"
   ]
  },
  {
   "cell_type": "code",
   "execution_count": 7,
   "id": "0a1ade88-c70c-4c7f-ad73-d6ee8e695428",
   "metadata": {},
   "outputs": [],
   "source": [
    "# List of Greater Manchester LAD codes\n",
    "gm_lads = [\n",
    "    \"E08000001\", \"E08000002\", \"E08000003\", \"E08000004\", \n",
    "    \"E08000005\", \"E08000006\", \"E08000007\", \"E08000008\", \n",
    "    \"E08000009\", \"E08000010\"\n",
    "]\n",
    "\n",
    "# Filter rows where LAD21CD is in Greater Manchester list\n",
    "gm_lsoas2021 = lsoa2021[lsoa2021[\"ladcd\"].isin(gm_lads)]\n",
    "gm_lsoas2011 = lsoa2011[lsoa2011[\"ladcd\"].isin(gm_lads)]\n",
    "gm_lsoas2001 = lsoa2001[lsoa2001['LAD11CD'].isin(gm_lads)]"
   ]
  },
  {
   "cell_type": "code",
   "execution_count": 8,
   "id": "10f0d5ea-7e39-4e9a-a554-0632c1d1e3c9",
   "metadata": {},
   "outputs": [],
   "source": [
    "gm_lsoas2021 = gm_lsoas2021[[\"lsoa21cd\", \"msoa21cd\", \"ladcd\", \"lsoa21nm\", \"msoa21nm\", \"ladnm\"]].drop_duplicates()\n",
    "gm_lsoas2011 = gm_lsoas2011[[\"lsoa11cd\", \"msoa11cd\", \"ladcd\", \"lsoa11nm\", \"msoa11nm\", \"ladnm\"]].drop_duplicates()\n",
    "gm_lsoas2001 = gm_lsoas2001[[\"ï»¿LSOA01CD\",\"LSOA01NM\",\"LSOA11CD\",\"LSOA11NM\"]]\n",
    "\n",
    "gm_lsoas2001.columns = [col.lower().replace(\"ï»¿\", \"\") for col in gm_lsoas2001.columns]"
   ]
  },
  {
   "cell_type": "code",
   "execution_count": 9,
   "id": "fa4a45a4-47fc-4098-a84b-36c856800ccc",
   "metadata": {},
   "outputs": [
    {
     "data": {
      "text/html": [
       "<div>\n",
       "<style scoped>\n",
       "    .dataframe tbody tr th:only-of-type {\n",
       "        vertical-align: middle;\n",
       "    }\n",
       "\n",
       "    .dataframe tbody tr th {\n",
       "        vertical-align: top;\n",
       "    }\n",
       "\n",
       "    .dataframe thead th {\n",
       "        text-align: right;\n",
       "    }\n",
       "</style>\n",
       "<table border=\"1\" class=\"dataframe\">\n",
       "  <thead>\n",
       "    <tr style=\"text-align: right;\">\n",
       "      <th></th>\n",
       "      <th>lsoa21cd</th>\n",
       "      <th>msoa21cd</th>\n",
       "      <th>ladcd</th>\n",
       "      <th>lsoa21nm</th>\n",
       "      <th>msoa21nm</th>\n",
       "      <th>ladnm</th>\n",
       "    </tr>\n",
       "  </thead>\n",
       "  <tbody>\n",
       "    <tr>\n",
       "      <th>199485</th>\n",
       "      <td>E01005014</td>\n",
       "      <td>E02001019</td>\n",
       "      <td>E08000002</td>\n",
       "      <td>Bury 001A</td>\n",
       "      <td>Bury 001</td>\n",
       "      <td>Bury</td>\n",
       "    </tr>\n",
       "    <tr>\n",
       "      <th>199490</th>\n",
       "      <td>E01005017</td>\n",
       "      <td>E02001019</td>\n",
       "      <td>E08000002</td>\n",
       "      <td>Bury 001D</td>\n",
       "      <td>Bury 001</td>\n",
       "      <td>Bury</td>\n",
       "    </tr>\n",
       "    <tr>\n",
       "      <th>199492</th>\n",
       "      <td>E01005015</td>\n",
       "      <td>E02001019</td>\n",
       "      <td>E08000002</td>\n",
       "      <td>Bury 001B</td>\n",
       "      <td>Bury 001</td>\n",
       "      <td>Bury</td>\n",
       "    </tr>\n",
       "    <tr>\n",
       "      <th>199520</th>\n",
       "      <td>E01005022</td>\n",
       "      <td>E02001021</td>\n",
       "      <td>E08000002</td>\n",
       "      <td>Bury 003B</td>\n",
       "      <td>Bury 003</td>\n",
       "      <td>Bury</td>\n",
       "    </tr>\n",
       "    <tr>\n",
       "      <th>199538</th>\n",
       "      <td>E01005016</td>\n",
       "      <td>E02001019</td>\n",
       "      <td>E08000002</td>\n",
       "      <td>Bury 001C</td>\n",
       "      <td>Bury 001</td>\n",
       "      <td>Bury</td>\n",
       "    </tr>\n",
       "  </tbody>\n",
       "</table>\n",
       "</div>"
      ],
      "text/plain": [
       "         lsoa21cd   msoa21cd      ladcd   lsoa21nm  msoa21nm ladnm\n",
       "199485  E01005014  E02001019  E08000002  Bury 001A  Bury 001  Bury\n",
       "199490  E01005017  E02001019  E08000002  Bury 001D  Bury 001  Bury\n",
       "199492  E01005015  E02001019  E08000002  Bury 001B  Bury 001  Bury\n",
       "199520  E01005022  E02001021  E08000002  Bury 003B  Bury 003  Bury\n",
       "199538  E01005016  E02001019  E08000002  Bury 001C  Bury 001  Bury"
      ]
     },
     "execution_count": 9,
     "metadata": {},
     "output_type": "execute_result"
    }
   ],
   "source": [
    "gm_lsoas2021.head()"
   ]
  },
  {
   "cell_type": "code",
   "execution_count": 10,
   "id": "493f4474-62b9-49ec-8555-c6f3c4c2d0c4",
   "metadata": {},
   "outputs": [
    {
     "data": {
      "text/html": [
       "<div>\n",
       "<style scoped>\n",
       "    .dataframe tbody tr th:only-of-type {\n",
       "        vertical-align: middle;\n",
       "    }\n",
       "\n",
       "    .dataframe tbody tr th {\n",
       "        vertical-align: top;\n",
       "    }\n",
       "\n",
       "    .dataframe thead th {\n",
       "        text-align: right;\n",
       "    }\n",
       "</style>\n",
       "<table border=\"1\" class=\"dataframe\">\n",
       "  <thead>\n",
       "    <tr style=\"text-align: right;\">\n",
       "      <th></th>\n",
       "      <th>lsoa11cd</th>\n",
       "      <th>msoa11cd</th>\n",
       "      <th>ladcd</th>\n",
       "      <th>lsoa11nm</th>\n",
       "      <th>msoa11nm</th>\n",
       "      <th>ladnm</th>\n",
       "    </tr>\n",
       "  </thead>\n",
       "  <tbody>\n",
       "    <tr>\n",
       "      <th>196429</th>\n",
       "      <td>E01005014</td>\n",
       "      <td>E02001019</td>\n",
       "      <td>E08000002</td>\n",
       "      <td>Bury 001A</td>\n",
       "      <td>Bury 001</td>\n",
       "      <td>Bury</td>\n",
       "    </tr>\n",
       "    <tr>\n",
       "      <th>196434</th>\n",
       "      <td>E01005017</td>\n",
       "      <td>E02001019</td>\n",
       "      <td>E08000002</td>\n",
       "      <td>Bury 001D</td>\n",
       "      <td>Bury 001</td>\n",
       "      <td>Bury</td>\n",
       "    </tr>\n",
       "    <tr>\n",
       "      <th>196436</th>\n",
       "      <td>E01005015</td>\n",
       "      <td>E02001019</td>\n",
       "      <td>E08000002</td>\n",
       "      <td>Bury 001B</td>\n",
       "      <td>Bury 001</td>\n",
       "      <td>Bury</td>\n",
       "    </tr>\n",
       "    <tr>\n",
       "      <th>196469</th>\n",
       "      <td>E01005022</td>\n",
       "      <td>E02001021</td>\n",
       "      <td>E08000002</td>\n",
       "      <td>Bury 003B</td>\n",
       "      <td>Bury 003</td>\n",
       "      <td>Bury</td>\n",
       "    </tr>\n",
       "    <tr>\n",
       "      <th>196481</th>\n",
       "      <td>E01005016</td>\n",
       "      <td>E02001019</td>\n",
       "      <td>E08000002</td>\n",
       "      <td>Bury 001C</td>\n",
       "      <td>Bury 001</td>\n",
       "      <td>Bury</td>\n",
       "    </tr>\n",
       "  </tbody>\n",
       "</table>\n",
       "</div>"
      ],
      "text/plain": [
       "         lsoa11cd   msoa11cd      ladcd   lsoa11nm  msoa11nm ladnm\n",
       "196429  E01005014  E02001019  E08000002  Bury 001A  Bury 001  Bury\n",
       "196434  E01005017  E02001019  E08000002  Bury 001D  Bury 001  Bury\n",
       "196436  E01005015  E02001019  E08000002  Bury 001B  Bury 001  Bury\n",
       "196469  E01005022  E02001021  E08000002  Bury 003B  Bury 003  Bury\n",
       "196481  E01005016  E02001019  E08000002  Bury 001C  Bury 001  Bury"
      ]
     },
     "execution_count": 10,
     "metadata": {},
     "output_type": "execute_result"
    }
   ],
   "source": [
    "gm_lsoas2011.head()"
   ]
  },
  {
   "cell_type": "code",
   "execution_count": 11,
   "id": "d804268a-121a-45a3-b5a4-7ff2308037e7",
   "metadata": {},
   "outputs": [
    {
     "data": {
      "text/html": [
       "<div>\n",
       "<style scoped>\n",
       "    .dataframe tbody tr th:only-of-type {\n",
       "        vertical-align: middle;\n",
       "    }\n",
       "\n",
       "    .dataframe tbody tr th {\n",
       "        vertical-align: top;\n",
       "    }\n",
       "\n",
       "    .dataframe thead th {\n",
       "        text-align: right;\n",
       "    }\n",
       "</style>\n",
       "<table border=\"1\" class=\"dataframe\">\n",
       "  <thead>\n",
       "    <tr style=\"text-align: right;\">\n",
       "      <th></th>\n",
       "      <th>lsoa01cd</th>\n",
       "      <th>lsoa01nm</th>\n",
       "      <th>lsoa11cd</th>\n",
       "      <th>lsoa11nm</th>\n",
       "    </tr>\n",
       "  </thead>\n",
       "  <tbody>\n",
       "    <tr>\n",
       "      <th>2540</th>\n",
       "      <td>E01004768</td>\n",
       "      <td>Bolton 001A</td>\n",
       "      <td>E01004768</td>\n",
       "      <td>Bolton 001A</td>\n",
       "    </tr>\n",
       "    <tr>\n",
       "      <th>2548</th>\n",
       "      <td>E01004803</td>\n",
       "      <td>Bolton 001B</td>\n",
       "      <td>E01004803</td>\n",
       "      <td>Bolton 001B</td>\n",
       "    </tr>\n",
       "    <tr>\n",
       "      <th>2586</th>\n",
       "      <td>E01004804</td>\n",
       "      <td>Bolton 001C</td>\n",
       "      <td>E01004804</td>\n",
       "      <td>Bolton 001C</td>\n",
       "    </tr>\n",
       "    <tr>\n",
       "      <th>2592</th>\n",
       "      <td>E01004807</td>\n",
       "      <td>Bolton 001D</td>\n",
       "      <td>E01004807</td>\n",
       "      <td>Bolton 001D</td>\n",
       "    </tr>\n",
       "    <tr>\n",
       "      <th>2626</th>\n",
       "      <td>E01004808</td>\n",
       "      <td>Bolton 001E</td>\n",
       "      <td>E01004808</td>\n",
       "      <td>Bolton 001E</td>\n",
       "    </tr>\n",
       "  </tbody>\n",
       "</table>\n",
       "</div>"
      ],
      "text/plain": [
       "       lsoa01cd     lsoa01nm   lsoa11cd     lsoa11nm\n",
       "2540  E01004768  Bolton 001A  E01004768  Bolton 001A\n",
       "2548  E01004803  Bolton 001B  E01004803  Bolton 001B\n",
       "2586  E01004804  Bolton 001C  E01004804  Bolton 001C\n",
       "2592  E01004807  Bolton 001D  E01004807  Bolton 001D\n",
       "2626  E01004808  Bolton 001E  E01004808  Bolton 001E"
      ]
     },
     "execution_count": 11,
     "metadata": {},
     "output_type": "execute_result"
    }
   ],
   "source": [
    "gm_lsoas2001.head()"
   ]
  },
  {
   "cell_type": "code",
   "execution_count": 12,
   "id": "9f523b93-bc73-4674-80f8-0ae273002cb3",
   "metadata": {},
   "outputs": [],
   "source": [
    "# Export to CSV files without index\n",
    "# gm_lsoas2021.to_csv(\"/Users/alexander/Documents/MSc Data Science/S2/Applying Data Science/dp/lookup/processed/gm_lsoas2021.csv\", index=False)\n",
    "# gm_lsoas2011.to_csv(\"/Users/alexander/Documents/MSc Data Science/S2/Applying Data Science/dp/lookup/processed/gm_lsoas2011.csv\", index=False)\n",
    "# gm_lsoas2001.to_csv(\"/Users/alexander/Documents/MSc Data Science/S2/Applying Data Science/dp/lookup/processed/gm_lsoas2001.csv\", index=False)"
   ]
  },
  {
   "cell_type": "markdown",
   "id": "f5f4c559-ef87-49bc-ad20-edffa8db7d35",
   "metadata": {},
   "source": [
    "## From Postcode to LSOA"
   ]
  },
  {
   "cell_type": "code",
   "execution_count": 13,
   "id": "33fcae31-fd79-4009-8ada-e6b81c017f37",
   "metadata": {},
   "outputs": [
    {
     "name": "stderr",
     "output_type": "stream",
     "text": [
      "/var/folders/9q/x_qkm_295r77cyh7zn22pj3h0000gn/T/ipykernel_6801/666943757.py:5: DtypeWarning: Columns (13) have mixed types. Specify dtype option on import or set low_memory=False.\n",
      "  postcode = pd.read_csv(file_path, encoding='latin1')\n"
     ]
    }
   ],
   "source": [
    "# Set the path of the file\n",
    "file_path = '/Users/alexander/Documents/MSc Data Science/S2/Applying Data Science/dp/lookup/raw/PCD_OA21_LSOA21_MSOA21_LAD_FEB25_UK_LU.csv'\n",
    "\n",
    "# Load the CSV file into a DataFrame\n",
    "postcode = pd.read_csv(file_path, encoding='latin1') "
   ]
  },
  {
   "cell_type": "code",
   "execution_count": 15,
   "id": "a82d5fe4-3476-427e-9042-bb357f4498ea",
   "metadata": {},
   "outputs": [],
   "source": [
    "# Filter rows where LAD21CD is in Greater Manchester list\n",
    "postcode_gm = postcode[postcode[\"ladcd\"].isin(gm_lads)]"
   ]
  },
  {
   "cell_type": "code",
   "execution_count": 18,
   "id": "bba0b56e-9d3b-4df2-b357-ec506b536469",
   "metadata": {},
   "outputs": [],
   "source": [
    "# postcode_gm.to_csv(\"/Users/alexander/Documents/MSc Data Science/S2/Applying Data Science/dp/lookup/processed/postcode_gm2021.csv\", index=False)"
   ]
  }
 ],
 "metadata": {
  "kernelspec": {
   "display_name": "Python (myenv)",
   "language": "python",
   "name": "myenv"
  },
  "language_info": {
   "codemirror_mode": {
    "name": "ipython",
    "version": 3
   },
   "file_extension": ".py",
   "mimetype": "text/x-python",
   "name": "python",
   "nbconvert_exporter": "python",
   "pygments_lexer": "ipython3",
   "version": "3.13.0"
  }
 },
 "nbformat": 4,
 "nbformat_minor": 5
}
