{
 "cells": [
  {
   "cell_type": "code",
   "execution_count": 123,
   "id": "c73d0490-7617-4f4e-866f-3cd763797cfb",
   "metadata": {},
   "outputs": [],
   "source": [
    "import pandas as pd\n",
    "import os\n",
    "import numpy as np\n",
    "from shapely.geometry import Point\n",
    "import geopandas as gpd"
   ]
  },
  {
   "cell_type": "code",
   "execution_count": 2,
   "id": "12c0f28f-38b8-45fd-a0e9-6e3455467c39",
   "metadata": {},
   "outputs": [],
   "source": [
    "## Greater Manchester LSOA and MSOA\n",
    "# Set the path of the file\n",
    "lu2021 = '/Users/alexander/Documents/MSc Data Science/S2/Applying Data Science/dp/lookup/processed/gm_lsoas2021.csv'\n",
    "lu2011 = '/Users/alexander/Documents/MSc Data Science/S2/Applying Data Science/dp/lookup/processed/gm_lsoas2011.csv'\n",
    "lu2001 = '/Users/alexander/Documents/MSc Data Science/S2/Applying Data Science/dp/lookup/processed/gm_lsoas2001.csv'\n",
    "postcode = '/Users/alexander/Documents/MSc Data Science/S2/Applying Data Science/dp/lookup/processed/postcode_gm2021.csv'\n",
    "\n",
    "# Load the CSV file into a DataFrame\n",
    "gm2021 = pd.read_csv(lu2021)\n",
    "gm2011 = pd.read_csv(lu2011)\n",
    "gm2001 = pd.read_csv(lu2001)\n",
    "postcodegm2021 = pd.read_csv(postcode)"
   ]
  },
  {
   "cell_type": "markdown",
   "id": "411667ad-f33a-47a7-a677-5116c1955a58",
   "metadata": {},
   "source": [
    "## CO2 Emissions"
   ]
  },
  {
   "cell_type": "code",
   "execution_count": 68,
   "id": "529ce69f-931e-416f-80de-522bbe438ea4",
   "metadata": {},
   "outputs": [
    {
     "name": "stdout",
     "output_type": "stream",
     "text": [
      "Sheet names: ['3a', '3b']\n"
     ]
    }
   ],
   "source": [
    "## 2024 data\n",
    "# Define the file path\n",
    "file_path = \"/Users/alexander/Documents/MSc Data Science/S2/Applying Data Science/dp/raw_data/energy/co2emissionsenglandandwales.xlsx\"\n",
    "\n",
    "# Load the Excel file\n",
    "excel_file = pd.ExcelFile(file_path)\n",
    "\n",
    "# See the sheet names\n",
    "print(\"Sheet names:\", excel_file.sheet_names)\n",
    "\n",
    "# Load sheets into separate DataFrames\n",
    "df1 = pd.read_excel(excel_file, sheet_name=0)  # All dwellings\n",
    "df2 = pd.read_excel(excel_file, sheet_name=1)  # Type"
   ]
  },
  {
   "cell_type": "code",
   "execution_count": 69,
   "id": "a81cada6-498f-47d6-8240-38288e82fbeb",
   "metadata": {},
   "outputs": [],
   "source": [
    "# Keep only the last three columns\n",
    "df1_trimmed = df1.iloc[:, -3:]\n",
    "\n",
    "# Convert column names to snake_case\n",
    "df1_trimmed.columns = (\n",
    "    df1_trimmed.columns\n",
    "    .str.strip()\n",
    "    .str.lower()\n",
    "    .str.replace(\" \", \"_\")\n",
    "    .str.replace(\"(\", \"\", regex=False)\n",
    "    .str.replace(\")\", \"\", regex=False)\n",
    ")\n",
    "\n",
    "# Keep only the last four columns\n",
    "df2_trimmed = df2.iloc[:, -4:]\n",
    "\n",
    "# Convert column names to snake_case\n",
    "df2_trimmed.columns = (\n",
    "    df2_trimmed.columns\n",
    "    .str.strip()\n",
    "    .str.lower()\n",
    "    .str.replace(\" \", \"_\")\n",
    "    .str.replace(\"(\", \"\", regex=False)\n",
    "    .str.replace(\")\", \"\", regex=False)\n",
    ")"
   ]
  },
  {
   "cell_type": "code",
   "execution_count": 70,
   "id": "23063187-5580-4fd5-b394-d3a0c3c1e8a7",
   "metadata": {},
   "outputs": [],
   "source": [
    "# Select only the columns needed from df1_trimmed\n",
    "dwellings = df1_trimmed[['middle_super_output_layer_msoa_code', 'all_dwellings']]\n",
    "\n",
    "# Merge into df2_trimmed\n",
    "df2_with_dwellings = pd.merge(\n",
    "    df2_trimmed,\n",
    "    dwellings,\n",
    "    on='middle_super_output_layer_msoa_code',\n",
    "    how='left'\n",
    ")"
   ]
  },
  {
   "cell_type": "code",
   "execution_count": 71,
   "id": "2f758c71-ac2c-4374-ab3e-8b40210ee065",
   "metadata": {},
   "outputs": [
    {
     "name": "stderr",
     "output_type": "stream",
     "text": [
      "/var/folders/9q/x_qkm_295r77cyh7zn22pj3h0000gn/T/ipykernel_1841/235425539.py:7: FutureWarning: Downcasting behavior in `replace` is deprecated and will be removed in a future version. To retain the old behavior, explicitly call `result.infer_objects(copy=False)`. To opt-in to the future behavior, set `pd.set_option('future.no_silent_downcasting', True)`\n",
      "  df_gm_only_cleaned = df_gm_only.replace(\"[x]\", np.nan)\n"
     ]
    }
   ],
   "source": [
    "# Filter df2_with_dwellings to keep only rows with MSOA codes in gm2021\n",
    "df_gm_only = df2_with_dwellings[\n",
    "    df2_with_dwellings['middle_super_output_layer_msoa_code'].isin(gm2021['msoa21cd'])\n",
    "]\n",
    "\n",
    "# Replace \"[x]\" with NaN across the entire DataFrame\n",
    "df_gm_only_cleaned = df_gm_only.replace(\"[x]\", np.nan)\n",
    "\n",
    "# Add year:\n",
    "df_gm_only_cleaned['year'] = 2024"
   ]
  },
  {
   "cell_type": "code",
   "execution_count": 72,
   "id": "6ba23690-cb98-48e1-9713-9d3ed28475f2",
   "metadata": {},
   "outputs": [
    {
     "name": "stdout",
     "output_type": "stream",
     "text": [
      "Sheet names: ['3a', '3b']\n"
     ]
    }
   ],
   "source": [
    "## Now 2023\n",
    "# Define the file path\n",
    "file_path = \"/Users/alexander/Documents/MSc Data Science/S2/Applying Data Science/dp/raw_data/energy/co2emissionsenglandandwales2023.xlsx\"\n",
    "\n",
    "# Load the Excel file\n",
    "excel_file = pd.ExcelFile(file_path)\n",
    "\n",
    "# See the sheet names\n",
    "print(\"Sheet names:\", excel_file.sheet_names)\n",
    "\n",
    "# Load DataFrame\n",
    "df2 = pd.read_excel(excel_file, sheet_name=1)  # Type"
   ]
  },
  {
   "cell_type": "code",
   "execution_count": 73,
   "id": "9751b068-6928-450a-89c3-f483a22ac9af",
   "metadata": {},
   "outputs": [],
   "source": [
    "# Suppose your current DataFrame is 'df' and row index 2 has the real headers\n",
    "df2.columns = df2.iloc[2]  # Set the 3rd row as the header\n",
    "df2 = df2[3:]              # Drop the first 3 rows (0, 1, and 2)\n",
    "df2 = df2.reset_index(drop=True)  # Reset the index"
   ]
  },
  {
   "cell_type": "code",
   "execution_count": 74,
   "id": "744bea52-6d86-45a8-9fb7-0a6ccc2e5a5e",
   "metadata": {},
   "outputs": [],
   "source": [
    "# Keep only the last four columns\n",
    "df2_trimmed = df2.iloc[:, -5:]\n",
    "\n",
    "# Convert column names to snake_case\n",
    "df2_trimmed.columns = (\n",
    "    df2_trimmed.columns\n",
    "    .str.strip()\n",
    "    .str.lower()\n",
    "    .str.replace(\" \", \"_\")\n",
    "    .str.replace(\"(\", \"\", regex=False)\n",
    "    .str.replace(\")\", \"\", regex=False)\n",
    ")"
   ]
  },
  {
   "cell_type": "code",
   "execution_count": 75,
   "id": "5e84e390-3e4e-4ffd-9051-4f58f883e6a0",
   "metadata": {},
   "outputs": [],
   "source": [
    "# Filter df2_with_dwellings to keep only rows with MSOA codes in gm2021\n",
    "df_gm_only2023 = df2_trimmed[\n",
    "    df2_trimmed['middle_super_output_layer_msoa_code'].isin(gm2021['msoa21cd'])\n",
    "]\n",
    "\n",
    "# Replace \"[x]\" with NaN across the entire DataFrame\n",
    "df_gm_only2023 = df_gm_only2023.replace(\"[x]\", np.nan)\n",
    "\n",
    "# Add year:\n",
    "df_gm_only2023['year'] = 2023"
   ]
  },
  {
   "cell_type": "code",
   "execution_count": 76,
   "id": "0a4a7b0e-8f9d-4d3d-b761-3095f65e9726",
   "metadata": {},
   "outputs": [],
   "source": [
    "# Export\n",
    "# df_gm_only_cleaned.to_csv(\"/Users/alexander/Documents/MSc Data Science/S2/Applying Data Science/dp/processed/co2_emmissions_2024.csv\", index=False)\n",
    "# df_gm_only2023.to_csv(\"/Users/alexander/Documents/MSc Data Science/S2/Applying Data Science/dp/processed/co2_emmissions_2023.csv\", index=False)"
   ]
  },
  {
   "cell_type": "markdown",
   "id": "2f55d192-5670-4606-8955-6bc7c0ff1248",
   "metadata": {},
   "source": [
    "## Median Energy Efficiency Score"
   ]
  },
  {
   "cell_type": "code",
   "execution_count": 78,
   "id": "00dee004-5667-47f2-aaa0-9f35fd74650a",
   "metadata": {},
   "outputs": [
    {
     "name": "stdout",
     "output_type": "stream",
     "text": [
      "Sheet names: ['3a', '3b']\n"
     ]
    }
   ],
   "source": [
    "## 2024 data\n",
    "# Define the file path\n",
    "file_path = \"/Users/alexander/Documents/MSc Data Science/S2/Applying Data Science/dp/raw_data/energy/medianenergyefficiencyscoreenglandandwales.xlsx\"\n",
    "\n",
    "# Load the Excel file\n",
    "excel_file = pd.ExcelFile(file_path)\n",
    "\n",
    "# See the sheet names\n",
    "print(\"Sheet names:\", excel_file.sheet_names)\n",
    "\n",
    "# Load sheets into separate DataFrames\n",
    "df1 = pd.read_excel(excel_file, sheet_name=0)  # All dwellings\n",
    "df2 = pd.read_excel(excel_file, sheet_name=1)  # Type"
   ]
  },
  {
   "cell_type": "code",
   "execution_count": 81,
   "id": "bd039cf8-ed03-482b-bff1-8b514c4d7987",
   "metadata": {},
   "outputs": [],
   "source": [
    "# Keep only the last three columns\n",
    "df1_trimmed = df1.iloc[:, -3:]\n",
    "\n",
    "# Convert column names to snake_case\n",
    "df1_trimmed.columns = (\n",
    "    df1_trimmed.columns\n",
    "    .str.strip()\n",
    "    .str.lower()\n",
    "    .str.replace(\" \", \"_\")\n",
    "    .str.replace(\"(\", \"\", regex=False)\n",
    "    .str.replace(\")\", \"\", regex=False)\n",
    ")\n",
    "\n",
    "# Keep only the last four columns\n",
    "df2_trimmed = df2.iloc[:, -4:]\n",
    "\n",
    "# Convert column names to snake_case\n",
    "df2_trimmed.columns = (\n",
    "    df2_trimmed.columns\n",
    "    .str.strip()\n",
    "    .str.lower()\n",
    "    .str.replace(\" \", \"_\")\n",
    "    .str.replace(\"(\", \"\", regex=False)\n",
    "    .str.replace(\")\", \"\", regex=False)\n",
    ")"
   ]
  },
  {
   "cell_type": "code",
   "execution_count": 84,
   "id": "69ffa9ea-4ee1-4e5e-a1f4-c047304a4dbc",
   "metadata": {},
   "outputs": [],
   "source": [
    "# Select only the columns needed from df1_trimmed\n",
    "dwellings = df1_trimmed[['middle_super_output_layer_msoa_code', 'all_dwellings']]\n",
    "\n",
    "# Merge into df2_trimmed\n",
    "df2_with_dwellings = pd.merge(\n",
    "    df2_trimmed,\n",
    "    dwellings,\n",
    "    on='middle_super_output_layer_msoa_code',\n",
    "    how='left'\n",
    ")"
   ]
  },
  {
   "cell_type": "code",
   "execution_count": 86,
   "id": "41a51e42-1b58-43cf-88db-babb43337d9c",
   "metadata": {},
   "outputs": [
    {
     "name": "stderr",
     "output_type": "stream",
     "text": [
      "/var/folders/9q/x_qkm_295r77cyh7zn22pj3h0000gn/T/ipykernel_1841/235425539.py:7: FutureWarning: Downcasting behavior in `replace` is deprecated and will be removed in a future version. To retain the old behavior, explicitly call `result.infer_objects(copy=False)`. To opt-in to the future behavior, set `pd.set_option('future.no_silent_downcasting', True)`\n",
      "  df_gm_only_cleaned = df_gm_only.replace(\"[x]\", np.nan)\n"
     ]
    }
   ],
   "source": [
    "# Filter df2_with_dwellings to keep only rows with MSOA codes in gm2021\n",
    "df_gm_only = df2_with_dwellings[\n",
    "    df2_with_dwellings['middle_super_output_layer_msoa_code'].isin(gm2021['msoa21cd'])\n",
    "]\n",
    "\n",
    "# Replace \"[x]\" with NaN across the entire DataFrame\n",
    "df_gm_only_cleaned = df_gm_only.replace(\"[x]\", np.nan)\n",
    "\n",
    "# Add year:\n",
    "df_gm_only_cleaned['year'] = 2024"
   ]
  },
  {
   "cell_type": "code",
   "execution_count": 90,
   "id": "c966ebb8-3050-4e97-943d-36bd5329e6f6",
   "metadata": {},
   "outputs": [
    {
     "name": "stdout",
     "output_type": "stream",
     "text": [
      "Sheet names: ['3b']\n"
     ]
    }
   ],
   "source": [
    "## Now 2023\n",
    "# Define the file path\n",
    "file_path = \"/Users/alexander/Documents/MSc Data Science/S2/Applying Data Science/dp/raw_data/energy/medianenergyefficiencyscoreenglandandwalesup2023.xlsx\"\n",
    "\n",
    "# Load the Excel file\n",
    "excel_file = pd.ExcelFile(file_path)\n",
    "\n",
    "# See the sheet names\n",
    "print(\"Sheet names:\", excel_file.sheet_names)\n",
    "\n",
    "# Load DataFrame\n",
    "df2 = pd.read_excel(excel_file, sheet_name=0)  # Type"
   ]
  },
  {
   "cell_type": "code",
   "execution_count": 92,
   "id": "63d1d8e3-989f-42a8-b7ae-4259779e532d",
   "metadata": {},
   "outputs": [],
   "source": [
    "# Keep only the last four columns\n",
    "df2_trimmed = df2.iloc[:, -5:]\n",
    "\n",
    "# Convert column names to snake_case\n",
    "df2_trimmed.columns = (\n",
    "    df2_trimmed.columns\n",
    "    .str.strip()\n",
    "    .str.lower()\n",
    "    .str.replace(\" \", \"_\")\n",
    "    .str.replace(\"(\", \"\", regex=False)\n",
    "    .str.replace(\")\", \"\", regex=False)\n",
    ")"
   ]
  },
  {
   "cell_type": "code",
   "execution_count": 94,
   "id": "438f3cbe-959d-4047-a192-1cd7b71f26f5",
   "metadata": {},
   "outputs": [],
   "source": [
    "# Filter df2_with_dwellings to keep only rows with MSOA codes in gm2021\n",
    "df_gm_only2023 = df2_trimmed[\n",
    "    df2_trimmed['middle_super_output_layer_msoa_code'].isin(gm2021['msoa21cd'])\n",
    "]\n",
    "\n",
    "# Replace \"[x]\" with NaN across the entire DataFrame\n",
    "df_gm_only2023 = df_gm_only2023.replace(\"[x]\", np.nan)\n",
    "\n",
    "# Add year:\n",
    "df_gm_only2023['year'] = 2023"
   ]
  },
  {
   "cell_type": "code",
   "execution_count": 97,
   "id": "cda560fb-cf8e-4127-a737-72692c2afada",
   "metadata": {},
   "outputs": [],
   "source": [
    "# Export\n",
    "# df_gm_only_cleaned.to_csv(\"/Users/alexander/Documents/MSc Data Science/S2/Applying Data Science/dp/processed/eff_scores_2024.csv\", index=False)\n",
    "# df_gm_only2023.to_csv(\"/Users/alexander/Documents/MSc Data Science/S2/Applying Data Science/dp/processed/eff_scores_2023.csv\", index=False)"
   ]
  },
  {
   "cell_type": "markdown",
   "id": "f3172108-a971-4bf7-a583-c568e5e7156b",
   "metadata": {},
   "source": [
    "## Main Fuel Type "
   ]
  },
  {
   "cell_type": "code",
   "execution_count": 98,
   "id": "cfe4a235-ad10-45b7-b1d2-70204e824110",
   "metadata": {},
   "outputs": [
    {
     "name": "stdout",
     "output_type": "stream",
     "text": [
      "Sheet names: ['3a']\n"
     ]
    }
   ],
   "source": [
    "## 2024\n",
    "# Define the file path\n",
    "file_path = \"/Users/alexander/Documents/MSc Data Science/S2/Applying Data Science/dp/raw_data/energy/mainfueltypeenglandandwales.xlsx\"\n",
    "\n",
    "# Load the Excel file\n",
    "excel_file = pd.ExcelFile(file_path)\n",
    "\n",
    "# See the sheet names\n",
    "print(\"Sheet names:\", excel_file.sheet_names)\n",
    "\n",
    "# Load DataFrame\n",
    "df = pd.read_excel(excel_file, sheet_name=0)  # Type"
   ]
  },
  {
   "cell_type": "code",
   "execution_count": 100,
   "id": "b5bc7a8b-8a78-4e22-94d5-5605b23fb3cf",
   "metadata": {},
   "outputs": [],
   "source": [
    "# Keep only the last four columns\n",
    "df_trimmed = df.iloc[:, -10:]\n",
    "\n",
    "# Convert column names to snake_case\n",
    "df_trimmed.columns = (\n",
    "    df_trimmed.columns\n",
    "    .str.strip()\n",
    "    .str.lower()\n",
    "    .str.replace(\" \", \"_\")\n",
    "    .str.replace(\"(\", \"\", regex=False)\n",
    "    .str.replace(\")\", \"\", regex=False)\n",
    ")"
   ]
  },
  {
   "cell_type": "code",
   "execution_count": 102,
   "id": "490fb256-0d9f-4eff-9ca2-a22576be2a34",
   "metadata": {},
   "outputs": [
    {
     "name": "stderr",
     "output_type": "stream",
     "text": [
      "/var/folders/9q/x_qkm_295r77cyh7zn22pj3h0000gn/T/ipykernel_1841/74702473.py:7: FutureWarning: Downcasting behavior in `replace` is deprecated and will be removed in a future version. To retain the old behavior, explicitly call `result.infer_objects(copy=False)`. To opt-in to the future behavior, set `pd.set_option('future.no_silent_downcasting', True)`\n",
      "  df_gm_only2024 = df_gm_only2024.replace(\"[x]\", np.nan)\n"
     ]
    }
   ],
   "source": [
    "# Filter df2_with_dwellings to keep only rows with MSOA codes in gm2021\n",
    "df_gm_only2024 = df_trimmed[\n",
    "    df_trimmed['middle_super_output_layer_msoa_code'].isin(gm2021['msoa21cd'])\n",
    "]\n",
    "\n",
    "# Replace \"[x]\" with NaN across the entire DataFrame\n",
    "df_gm_only2024 = df_gm_only2024.replace(\"[x]\", np.nan)\n",
    "\n",
    "# Add year:\n",
    "df_gm_only2024['year'] = 2024"
   ]
  },
  {
   "cell_type": "code",
   "execution_count": 104,
   "id": "fab6f4ab-0061-4009-bbc5-45f43348e2bd",
   "metadata": {},
   "outputs": [
    {
     "name": "stdout",
     "output_type": "stream",
     "text": [
      "Sheet names: ['3a']\n"
     ]
    }
   ],
   "source": [
    "## 2023\n",
    "# Define the file path\n",
    "file_path = \"/Users/alexander/Documents/MSc Data Science/S2/Applying Data Science/dp/raw_data/energy/mainfueltypeenglandandwales2023.xlsx\"\n",
    "\n",
    "# Load the Excel file\n",
    "excel_file = pd.ExcelFile(file_path)\n",
    "\n",
    "# See the sheet names\n",
    "print(\"Sheet names:\", excel_file.sheet_names)\n",
    "\n",
    "# Load DataFrame\n",
    "df = pd.read_excel(excel_file, sheet_name=0)  # Type"
   ]
  },
  {
   "cell_type": "code",
   "execution_count": 106,
   "id": "a3d5350f-4a12-4b64-8a5e-269402059f4d",
   "metadata": {},
   "outputs": [],
   "source": [
    "# Keep only the last four columns\n",
    "df_trimmed = df.iloc[:, -10:]\n",
    "\n",
    "# Convert column names to snake_case\n",
    "df_trimmed.columns = (\n",
    "    df_trimmed.columns\n",
    "    .str.strip()\n",
    "    .str.lower()\n",
    "    .str.replace(\" \", \"_\")\n",
    "    .str.replace(\"(\", \"\", regex=False)\n",
    "    .str.replace(\")\", \"\", regex=False)\n",
    ")"
   ]
  },
  {
   "cell_type": "code",
   "execution_count": 107,
   "id": "3da799c0-d720-4aac-b993-9491bc42018e",
   "metadata": {},
   "outputs": [
    {
     "name": "stderr",
     "output_type": "stream",
     "text": [
      "/var/folders/9q/x_qkm_295r77cyh7zn22pj3h0000gn/T/ipykernel_1841/1799420942.py:7: FutureWarning: Downcasting behavior in `replace` is deprecated and will be removed in a future version. To retain the old behavior, explicitly call `result.infer_objects(copy=False)`. To opt-in to the future behavior, set `pd.set_option('future.no_silent_downcasting', True)`\n",
      "  df_gm_only2023 = df_gm_only2023.replace(\"c\", np.nan)\n"
     ]
    }
   ],
   "source": [
    "# Filter df2_with_dwellings to keep only rows with MSOA codes in gm2021\n",
    "df_gm_only2023 = df_trimmed[\n",
    "    df_trimmed['middle_super_output_layer_msoa_code'].isin(gm2021['msoa21cd'])\n",
    "]\n",
    "\n",
    "# Replace \"[x]\" with NaN across the entire DataFrame\n",
    "df_gm_only2023 = df_gm_only2023.replace(\"c\", np.nan)\n",
    "\n",
    "# Add year:\n",
    "df_gm_only2023['year'] = 2023"
   ]
  },
  {
   "cell_type": "code",
   "execution_count": 111,
   "id": "c8bc8d52-e5e7-488b-8379-64771e699e59",
   "metadata": {},
   "outputs": [],
   "source": [
    "# Export\n",
    "# df_gm_only2024.to_csv(\"/Users/alexander/Documents/MSc Data Science/S2/Applying Data Science/dp/processed/fuel_type_2024.csv\", index=False)\n",
    "# df_gm_only2023.to_csv(\"/Users/alexander/Documents/MSc Data Science/S2/Applying Data Science/dp/processed/fuel_type_2023.csv\", index=False)"
   ]
  },
  {
   "cell_type": "markdown",
   "id": "c6447198-0cc8-4cbe-b1a5-c4c5940f18b5",
   "metadata": {},
   "source": [
    "## Energy Performance Certificate"
   ]
  },
  {
   "cell_type": "code",
   "execution_count": 112,
   "id": "52e74193-9447-452a-a10f-51a27830baf6",
   "metadata": {},
   "outputs": [
    {
     "name": "stdout",
     "output_type": "stream",
     "text": [
      "Sheet names: ['3a']\n"
     ]
    }
   ],
   "source": [
    "# Define the file path\n",
    "file_path = \"/Users/alexander/Documents/MSc Data Science/S2/Applying Data Science/dp/raw_data/energy/epcbandcoraboveenglandandwales.xlsx\"\n",
    "\n",
    "# Load the Excel file\n",
    "excel_file = pd.ExcelFile(file_path)\n",
    "\n",
    "# See the sheet names\n",
    "print(\"Sheet names:\", excel_file.sheet_names)\n",
    "\n",
    "# Load DataFrame\n",
    "df = pd.read_excel(excel_file, sheet_name=0)  # Type"
   ]
  },
  {
   "cell_type": "code",
   "execution_count": 114,
   "id": "7417dddf-292c-46a6-8c2b-ce6c6d21d926",
   "metadata": {},
   "outputs": [],
   "source": [
    "# Keep only the last four columns\n",
    "df_trimmed = df.iloc[:, -3:]\n",
    "\n",
    "# Convert column names to snake_case\n",
    "df_trimmed.columns = (\n",
    "    df_trimmed.columns\n",
    "    .str.strip()\n",
    "    .str.lower()\n",
    "    .str.replace(\" \", \"_\")\n",
    "    .str.replace(\"(\", \"\", regex=False)\n",
    "    .str.replace(\")\", \"\", regex=False)\n",
    ")"
   ]
  },
  {
   "cell_type": "code",
   "execution_count": 117,
   "id": "71a755f7-8b25-4bc3-8656-b88207a04ce9",
   "metadata": {},
   "outputs": [],
   "source": [
    "# Filter df2_with_dwellings to keep only rows with MSOA codes in gm2021\n",
    "df_gm_only2024 = df_trimmed[\n",
    "    df_trimmed['middle_super_output_layer_msoa_code'].isin(gm2021['msoa21cd'])\n",
    "]\n",
    "\n",
    "# Replace \"[x]\" with NaN across the entire DataFrame\n",
    "df_gm_only2024 = df_gm_only2024.replace(\"[x]\", np.nan)\n",
    "\n",
    "# Add year:\n",
    "df_gm_only2024['year'] = 2024"
   ]
  },
  {
   "cell_type": "code",
   "execution_count": 120,
   "id": "79baeca8-a634-4d01-b4c0-8c28f60f33ad",
   "metadata": {},
   "outputs": [],
   "source": [
    "# Export\n",
    "# df_gm_only2024.to_csv(\"/Users/alexander/Documents/MSc Data Science/S2/Applying Data Science/dp/processed/epc_2024.csv\", index=False)"
   ]
  },
  {
   "cell_type": "markdown",
   "id": "3d36bd91-f175-4791-9116-e8a1f2d1b292",
   "metadata": {},
   "source": [
    "## Primary Substations"
   ]
  },
  {
   "cell_type": "code",
   "execution_count": 170,
   "id": "b3271019-d80d-449b-a285-b8270022007b",
   "metadata": {
    "scrolled": true
   },
   "outputs": [
    {
     "name": "stdout",
     "output_type": "stream",
     "text": [
      "   Longitude   Latitude\n",
      "0  -2.495094  53.730154\n",
      "1  -2.225912  53.307961\n",
      "2  -2.435255  54.812568\n",
      "3  -2.963194  54.423142\n",
      "4  -2.227189  53.485969\n"
     ]
    }
   ],
   "source": [
    "# Load the CSV\n",
    "df_substations = pd.read_csv(\"/Users/alexander/Documents/MSc Data Science/S2/Applying Data Science/dp/raw_data/energy/GB_PS_data.csv\")\n",
    "\n",
    "# Split 'Geo(Long,Lat)' into two columns\n",
    "df_substations[['Longitude', 'Latitude']] = df_substations['Geo(Long,Lat)'].str.strip(\"()\").str.split(\",\", expand=True)\n",
    "\n",
    "# Convert to float\n",
    "df_substations['Longitude'] = df_substations['Longitude'].astype(float)\n",
    "df_substations['Latitude'] = df_substations['Latitude'].astype(float)\n",
    "\n",
    "# Check result\n",
    "print(df_substations[['Longitude', 'Latitude']].head())"
   ]
  },
  {
   "cell_type": "code",
   "execution_count": 171,
   "id": "04258822-80f6-4d04-8323-00bdd20dd9b2",
   "metadata": {},
   "outputs": [
    {
     "name": "stdout",
     "output_type": "stream",
     "text": [
      "                   PS Name  Firm Capacity (MVA)  Demand (MVA)        PF  \\\n",
      "0                albion st               22.863     11.720532  0.998712   \n",
      "1      alderley & chelford               28.310     17.003134  0.975600   \n",
      "2                   alston                1.700      1.531605  0.985752   \n",
      "3                ambleside               17.800      9.192532  0.993175   \n",
      "4  ancoats north t11 & t12               22.863     17.347102  0.992857   \n",
      "\n",
      "                            Geo(Long,Lat)               GSP  DNO  Longitude  \\\n",
      "0   -2.4950937454916797,53.73015403195597          ROCHDALE  ENW  -2.495094   \n",
      "1    -2.225911796847622,53.30796142675533  SOUTH MANCHESTER  ENW  -2.225912   \n",
      "2   -2.4352546655219385,54.81256830516162            HUTTON  ENW  -2.435255   \n",
      "3    -2.963194161426022,54.42314157846089            HUTTON  ENW  -2.963194   \n",
      "4  -2.2271891138444646,53.485968874301655         WHITEGATE  ENW  -2.227189   \n",
      "\n",
      "    Latitude                   geometry  \n",
      "0  53.730154  POINT (-2.49509 53.73015)  \n",
      "1  53.307961  POINT (-2.22591 53.30796)  \n",
      "2  54.812568  POINT (-2.43525 54.81257)  \n",
      "3  54.423142  POINT (-2.96319 54.42314)  \n",
      "4  53.485969  POINT (-2.22719 53.48597)  \n"
     ]
    }
   ],
   "source": [
    "# Create geometry column from Longitude and Latitude\n",
    "geometry = gpd.points_from_xy(df_substations['Longitude'], df_substations['Latitude'])\n",
    "\n",
    "# Create GeoDataFrame\n",
    "gdf_substations = gpd.GeoDataFrame(df_substations, geometry=geometry, crs=\"EPSG:4326\")\n",
    "\n",
    "# Preview the result\n",
    "print(gdf_substations.head())"
   ]
  },
  {
   "cell_type": "code",
   "execution_count": 172,
   "id": "98f545e3-906a-499d-8612-1f1b8b197000",
   "metadata": {},
   "outputs": [
    {
     "name": "stdout",
     "output_type": "stream",
     "text": [
      "Index(['LSOA21CD', 'LSOA21NM', 'LSOA21NMW', 'BNG_E', 'BNG_N', 'LAT', 'LONG',\n",
      "       'GlobalID', 'geometry'],\n",
      "      dtype='object')\n",
      "EPSG:27700\n"
     ]
    }
   ],
   "source": [
    "# Load the LSOA shapefile\n",
    "gdf_lsoa = gpd.read_file(\"/Users/alexander/Documents/MSc Data Science/S2/Applying Data Science/dp/shapefiles/Lower_layer_Super_Output_Areas_December_2021_Boundaries_EW_BSC_V4_-5236167991066794441/LSOA_2021_EW_BSC_V4.shp\")\n",
    "\n",
    "# Check the columns and CRS\n",
    "print(gdf_lsoa.columns)\n",
    "print(gdf_lsoa.crs)"
   ]
  },
  {
   "cell_type": "code",
   "execution_count": 173,
   "id": "7a498b4f-1282-4f89-8f48-5df73ff9d4b3",
   "metadata": {},
   "outputs": [],
   "source": [
    "# Make sure the LSOA codes in gm2021 match the column in gdf_lsoa\n",
    "gm_lsoa_codes = gm2021['lsoa21cd']  # Adjust column name if needed\n",
    "\n",
    "# Filter LSOA shapefile to only GM LSOAs\n",
    "gdf_lsoa_gm = gdf_lsoa[gdf_lsoa['LSOA21CD'].isin(gm_lsoa_codes)]"
   ]
  },
  {
   "cell_type": "code",
   "execution_count": 174,
   "id": "47605ebf-1411-4536-b092-9b2cdce0b570",
   "metadata": {},
   "outputs": [
    {
     "name": "stdout",
     "output_type": "stream",
     "text": [
      "    LSOA21CD  n_substations\n",
      "0  E01004775              1\n",
      "1  E01004776              1\n",
      "2  E01004780              1\n",
      "3  E01004786              1\n",
      "4  E01004809              1\n"
     ]
    }
   ],
   "source": [
    "# Reproject substations to same CRS as LSOA\n",
    "gdf_substations = gdf_substations.to_crs(gdf_lsoa_gm.crs)\n",
    "\n",
    "# Spatial join to map substations to LSOAs\n",
    "gdf_joined = gpd.sjoin(gdf_substations, gdf_lsoa_gm, how=\"left\", predicate=\"within\")\n",
    "\n",
    "# Count number of substations in each LSOA\n",
    "substations_per_lsoa = gdf_joined.groupby('LSOA21CD').size().reset_index(name='n_substations')\n",
    "\n",
    "print(substations_per_lsoa.head())"
   ]
  },
  {
   "cell_type": "code",
   "execution_count": 175,
   "id": "9a839a98-d784-4685-b912-833578c26b7e",
   "metadata": {},
   "outputs": [
    {
     "name": "stdout",
     "output_type": "stream",
     "text": [
      "    lsoa21cd  avg_firm_capacity_mva  avg_demand_mva    avg_pf\n",
      "0  E01004775                 32.000       21.647483  0.997744\n",
      "1  E01004776                 22.863       17.797984  0.994990\n",
      "2  E01004780                 22.863       15.833026  0.998127\n",
      "3  E01004786                 16.700       12.707517  0.992624\n",
      "4  E01004809                 16.700       10.993326  0.997567\n"
     ]
    }
   ],
   "source": [
    "# Group by LSOA21CD and calculate mean\n",
    "averages_per_lsoa = gdf_joined.groupby('LSOA21CD')[\n",
    "    ['Firm Capacity (MVA)', 'Demand (MVA)', 'PF']\n",
    "].mean().reset_index()\n",
    "\n",
    "# Rename columns to snake_case and more readable\n",
    "averages_per_lsoa.columns = [\n",
    "    'lsoa21cd', 'avg_firm_capacity_mva', 'avg_demand_mva', 'avg_pf'\n",
    "]\n",
    "\n",
    "# Preview\n",
    "print(averages_per_lsoa.head())"
   ]
  },
  {
   "cell_type": "code",
   "execution_count": 176,
   "id": "fd3d148e-2024-4749-a3d3-c23df5e7980e",
   "metadata": {},
   "outputs": [
    {
     "name": "stdout",
     "output_type": "stream",
     "text": [
      "    lsoa21cd  n_substations  avg_firm_capacity_mva  avg_demand_mva    avg_pf\n",
      "0  E01004775              1                 32.000       21.647483  0.997744\n",
      "1  E01004776              1                 22.863       17.797984  0.994990\n",
      "2  E01004780              1                 22.863       15.833026  0.998127\n",
      "3  E01004786              1                 16.700       12.707517  0.992624\n",
      "4  E01004809              1                 16.700       10.993326  0.997567\n"
     ]
    }
   ],
   "source": [
    "# Rename count DataFrame column for clarity\n",
    "substations_per_lsoa.columns = ['lsoa21cd', 'n_substations']\n",
    "\n",
    "# Merge both DataFrames\n",
    "lsoa_summary = pd.merge(substations_per_lsoa, averages_per_lsoa, on='lsoa21cd')\n",
    "\n",
    "# Preview\n",
    "print(lsoa_summary.head())"
   ]
  },
  {
   "cell_type": "code",
   "execution_count": 177,
   "id": "f82e15e4-165d-4861-869a-489481050bbe",
   "metadata": {},
   "outputs": [
    {
     "name": "stdout",
     "output_type": "stream",
     "text": [
      "    lsoa21cd     lsoa21nm  n_substations  avg_firm_capacity_mva  \\\n",
      "0  E01004775  Bolton 014A              1                 32.000   \n",
      "1  E01004776  Bolton 031A              1                 22.863   \n",
      "2  E01004780  Bolton 009B              1                 22.863   \n",
      "3  E01004786  Bolton 006C              1                 16.700   \n",
      "4  E01004809  Bolton 003E              1                 16.700   \n",
      "\n",
      "   avg_demand_mva    avg_pf  \n",
      "0       21.647483  0.997744  \n",
      "1       17.797984  0.994990  \n",
      "2       15.833026  0.998127  \n",
      "3       12.707517  0.992624  \n",
      "4       10.993326  0.997567  \n"
     ]
    }
   ],
   "source": [
    "# Make sure lsoa21cd is lowercase in both DataFrames\n",
    "gm2021['lsoa21cd'] = gm2021['lsoa21cd'].str.upper()  # Just in case\n",
    "lsoa_summary['lsoa21cd'] = lsoa_summary['lsoa21cd'].str.upper()\n",
    "\n",
    "# Merge LSOA names into summary\n",
    "lsoa_summary_named = pd.merge(\n",
    "    lsoa_summary,\n",
    "    gm2021[['lsoa21cd', 'lsoa21nm']],\n",
    "    on='lsoa21cd',\n",
    "    how='left'\n",
    ")\n",
    "\n",
    "# Optional: reorder columns\n",
    "lsoa_summary_named = lsoa_summary_named[[\n",
    "    'lsoa21cd', 'lsoa21nm', 'n_substations',\n",
    "    'avg_firm_capacity_mva', 'avg_demand_mva', 'avg_pf'\n",
    "]]\n",
    "\n",
    "# Preview\n",
    "print(lsoa_summary_named.head())"
   ]
  },
  {
   "cell_type": "code",
   "execution_count": 178,
   "id": "408f8b34-1c3b-494f-8f84-1c4fccd39939",
   "metadata": {},
   "outputs": [],
   "source": [
    "# Merge gm2021 (full list) with the summary we created\n",
    "full_lsoa_summary = pd.merge(\n",
    "    gm2021[['lsoa21cd', 'lsoa21nm']],\n",
    "    lsoa_summary_named,\n",
    "    on=['lsoa21cd', 'lsoa21nm'],\n",
    "    how='left'\n",
    ")\n",
    "\n",
    "# Fill missing values with 0\n",
    "full_lsoa_summary[['n_substations', 'avg_firm_capacity_mva', 'avg_demand_mva', 'avg_pf']] = (\n",
    "    full_lsoa_summary[['n_substations', 'avg_firm_capacity_mva', 'avg_demand_mva', 'avg_pf']]\n",
    "    .fillna(0)\n",
    ")\n",
    "\n",
    "# Add year:\n",
    "full_lsoa_summary['year'] = 2024"
   ]
  },
  {
   "cell_type": "code",
   "execution_count": 180,
   "id": "02261e20-7275-4a03-ab0c-cd312fbe6971",
   "metadata": {},
   "outputs": [],
   "source": [
    "# Export\n",
    "# full_lsoa_summary.to_csv(\"/Users/alexander/Documents/MSc Data Science/S2/Applying Data Science/dp/processed/ps_2024.csv\", index=False)"
   ]
  },
  {
   "cell_type": "markdown",
   "id": "20482bd8-ebd8-45f3-9b32-a8be1efe0925",
   "metadata": {},
   "source": [
    "## Low Carbon Technologies (LCT) "
   ]
  },
  {
   "cell_type": "code",
   "execution_count": 200,
   "id": "77774728-95e9-473a-8f01-75310275a5d5",
   "metadata": {},
   "outputs": [],
   "source": [
    "#Load data\n",
    "df_lct2 = pd.read_csv(\"/Users/alexander/Documents/MSc Data Science/S2/Applying Data Science/dp/raw_data/energy/low-carbon-technologies.csv\")"
   ]
  },
  {
   "cell_type": "code",
   "execution_count": 201,
   "id": "3cd45feb-6b0b-4d3f-9add-a0daa511db0e",
   "metadata": {},
   "outputs": [],
   "source": [
    "# Split coordinates into latitude and longitude\n",
    "df_lct2[['Latitude', 'Longitude']] = df_lct2['SpatialCoordinates'].str.split(\",\", expand=True).astype(float)"
   ]
  },
  {
   "cell_type": "code",
   "execution_count": 202,
   "id": "84340be8-bebc-4f0c-9469-4b6587345038",
   "metadata": {},
   "outputs": [],
   "source": [
    "gdf_lct2 = gpd.GeoDataFrame(\n",
    "    df_lct2,\n",
    "    geometry=gpd.points_from_xy(df_lct2['Longitude'], df_lct2['Latitude']),\n",
    "    crs=\"EPSG:4326\"\n",
    ")"
   ]
  },
  {
   "cell_type": "code",
   "execution_count": 203,
   "id": "426a05c7-3e95-4b0a-ba85-d7ab06ca3833",
   "metadata": {},
   "outputs": [
    {
     "name": "stdout",
     "output_type": "stream",
     "text": [
      "0\n"
     ]
    }
   ],
   "source": [
    "# Reproject to match GM shapefile\n",
    "gdf_lct2 = gdf_lct2.to_crs(gdf_lsoa_gm.crs)\n",
    "\n",
    "# Spatial join\n",
    "gdf_lct2_gm = gpd.sjoin(gdf_lct2, gdf_lsoa_gm, how='inner', predicate='within')\n",
    "\n",
    "# Check how many matches\n",
    "print(len(gdf_lct2_gm))"
   ]
  },
  {
   "cell_type": "markdown",
   "id": "e7aa6910-73bb-4bd0-a356-e1ecb8e28409",
   "metadata": {},
   "source": [
    "## Outage History"
   ]
  },
  {
   "cell_type": "code",
   "execution_count": 220,
   "id": "45d4a657-2d1d-432c-ae7e-50af10f311cd",
   "metadata": {},
   "outputs": [],
   "source": [
    "# Load data\n",
    "filepath = \"/Users/alexander/Documents/MSc Data Science/S2/Applying Data Science/dp/raw_data/energy/ukpn-ehv-network-outages.csv\"\n",
    "\n",
    "# Lat and Long:\n",
    "# Extract lat/lon from 'Spatial Coordinates'\n",
    "df[['Latitude', 'Longitude']] = df['Spatial Coordinates'].str.split(\",\", expand=True).astype(float)\n",
    "\n",
    "# Convert to GeoDataFrame\n",
    "gdf_outages = gpd.GeoDataFrame(\n",
    "    df,\n",
    "    geometry=gpd.points_from_xy(df['Longitude'], df['Latitude']),\n",
    "    crs=\"EPSG:4326\"\n",
    ")"
   ]
  },
  {
   "cell_type": "code",
   "execution_count": 221,
   "id": "952bdff1-46d3-4f0c-b387-b359609a87d6",
   "metadata": {},
   "outputs": [],
   "source": [
    "# Reproject to match LSOA shapefile\n",
    "gdf_outages = gdf_outages.to_crs(gdf_lsoa_gm.crs)\n",
    "\n",
    "# Join only outages that fall within Greater Manchester LSOAs\n",
    "gdf_outages_gm = gpd.sjoin(gdf_outages, gdf_lsoa_gm, how='inner', predicate='within')"
   ]
  },
  {
   "cell_type": "code",
   "execution_count": 225,
   "id": "4f351149-c219-448d-bf62-d359d2954b58",
   "metadata": {},
   "outputs": [
    {
     "name": "stdout",
     "output_type": "stream",
     "text": [
      "50.7581693825457 52.9451163821106\n",
      "-0.958709314218283 1.75733078863318\n"
     ]
    }
   ],
   "source": [
    "# No GM\n",
    "print(gdf_outages['Latitude'].min(), gdf_outages['Latitude'].max())\n",
    "print(gdf_outages['Longitude'].min(), gdf_outages['Longitude'].max())"
   ]
  },
  {
   "cell_type": "markdown",
   "id": "0c31cd8e-384f-4adc-836f-cdd88145867a",
   "metadata": {},
   "source": [
    "## Secondary Substations"
   ]
  },
  {
   "cell_type": "code",
   "execution_count": 226,
   "id": "6913bc53-6a2e-41bd-85b7-a9ff5537b89c",
   "metadata": {},
   "outputs": [],
   "source": [
    "#Load data\n",
    "df = pd.read_csv(\"/Users/alexander/Documents/MSc Data Science/S2/Applying Data Science/dp/raw_data/energy/ukpn_secondary_postcode_area.csv\")"
   ]
  },
  {
   "cell_type": "code",
   "execution_count": 229,
   "id": "8482749c-c46a-4211-a773-f0200442bd71",
   "metadata": {},
   "outputs": [],
   "source": [
    "# Extract lat/lon from 'Geo Point'\n",
    "df[['Latitude', 'Longitude']] = df['Geo Point'].str.split(\",\", expand=True).astype(float)"
   ]
  },
  {
   "cell_type": "code",
   "execution_count": 233,
   "id": "e891703c-b6b0-4217-9e9b-6234b58d25e9",
   "metadata": {},
   "outputs": [],
   "source": [
    "# Convert to GeoDataFrame\n",
    "gdf_check = gpd.GeoDataFrame(\n",
    "    df,\n",
    "    geometry=gpd.points_from_xy(df['Longitude'], df['Latitude']),\n",
    "    crs=\"EPSG:4326\"\n",
    ")"
   ]
  },
  {
   "cell_type": "code",
   "execution_count": 234,
   "id": "8297acfb-51a6-44cc-b1b2-75ff1e6d591e",
   "metadata": {},
   "outputs": [
    {
     "name": "stdout",
     "output_type": "stream",
     "text": [
      "Number of entries in Greater Manchester: 0\n"
     ]
    }
   ],
   "source": [
    "# Reproject to match GM LSOA shapefile\n",
    "gdf_check = gdf_check.to_crs(gdf_lsoa_gm.crs)\n",
    "\n",
    "# Spatial join\n",
    "gdf_check_gm = gpd.sjoin(gdf_check, gdf_lsoa_gm, how='inner', predicate='within')\n",
    "\n",
    "# Result\n",
    "print(f\"Number of entries in Greater Manchester: {len(gdf_check_gm)}\")\n"
   ]
  }
 ],
 "metadata": {
  "kernelspec": {
   "display_name": "Python (myenv)",
   "language": "python",
   "name": "myenv"
  },
  "language_info": {
   "codemirror_mode": {
    "name": "ipython",
    "version": 3
   },
   "file_extension": ".py",
   "mimetype": "text/x-python",
   "name": "python",
   "nbconvert_exporter": "python",
   "pygments_lexer": "ipython3",
   "version": "3.13.0"
  }
 },
 "nbformat": 4,
 "nbformat_minor": 5
}
